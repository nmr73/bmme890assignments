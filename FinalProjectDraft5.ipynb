{
  "nbformat": 4,
  "nbformat_minor": 0,
  "metadata": {
    "kernelspec": {
      "display_name": "Python 3",
      "language": "python",
      "name": "python3"
    },
    "language_info": {
      "codemirror_mode": {
        "name": "ipython",
        "version": 3
      },
      "file_extension": ".py",
      "mimetype": "text/x-python",
      "name": "python",
      "nbconvert_exporter": "python",
      "pygments_lexer": "ipython3",
      "version": "3.7.3"
    },
    "colab": {
      "name": "FinalProjectDraft3.ipynb",
      "provenance": [],
      "collapsed_sections": []
    }
  },
  "cells": [
    {
      "cell_type": "code",
      "metadata": {
        "id": "2CiOih3SzOgq",
        "colab_type": "code",
        "colab": {}
      },
      "source": [
        "import numpy as np\n",
        "import pandas as pd\n",
        "import os\n",
        "import sys\n",
        "import matplotlib.pyplot as plt\n",
        "from scipy.io import loadmat\n",
        "import h5py\n",
        "from scipy import signal\n",
        "from math import pi\n",
        "from sklearn.preprocessing import MinMaxScaler,StandardScaler, OneHotEncoder\n",
        "from sklearn.pipeline import Pipeline"
      ],
      "execution_count": 0,
      "outputs": []
    },
    {
      "cell_type": "code",
      "metadata": {
        "id": "WwWsW4nOR2hh",
        "colab_type": "code",
        "outputId": "0d9293da-af3f-4677-a7f4-fcb6ef46c3a8",
        "colab": {
          "base_uri": "https://localhost:8080/",
          "height": 54
        }
      },
      "source": [
        "from google.colab import drive\n",
        "drive.mount('/content/gdrive/')"
      ],
      "execution_count": 0,
      "outputs": [
        {
          "output_type": "stream",
          "text": [
            "Drive already mounted at /content/gdrive/; to attempt to forcibly remount, call drive.mount(\"/content/gdrive/\", force_remount=True).\n"
          ],
          "name": "stdout"
        }
      ]
    },
    {
      "cell_type": "markdown",
      "metadata": {
        "id": "mdsjAjfWzOgv",
        "colab_type": "text"
      },
      "source": [
        "### Data Import"
      ]
    },
    {
      "cell_type": "code",
      "metadata": {
        "id": "WL7Bht00zOgy",
        "colab_type": "code",
        "colab": {}
      },
      "source": [
        "# directory (dependent on what comp being used)\n",
        "data_dir='./gdrive/My Drive/BMME890_MachineLearning/ProjectData'\n",
        "#data_dir ='C:/Users/nmrubin/Desktop/BMME890MachineLearningProject/GoogleDrive/ProjectData'\n",
        "\n",
        "#import neutral position emg data\n",
        "#loadmat can't work with matlab v 7.3, use h5py\n",
        "\n",
        "#ordered by subjects 1-8\n",
        "Subjects= ['LV','KH','XH','HS','RC','NR','YZ','AM']\n",
        "\n",
        "EMG_dir = data_dir + '/EMGData/'\n",
        "Force_dir = data_dir + '/ForceData/'\n",
        "Spks_dir = data_dir + '/SpikeTrainsData/'\n",
        "# print(Subjects)\n",
        "\n",
        "#later -> go through all subjects\n",
        "for i in range(len(Subjects)): #Subject\n",
        "    Subj = Subjects[i]\n",
        "\n",
        "#for now one subject\n",
        "Subj = 'LV'"
      ],
      "execution_count": 0,
      "outputs": []
    },
    {
      "cell_type": "code",
      "metadata": {
        "id": "MKUbflAJzOg2",
        "colab_type": "code",
        "colab": {}
      },
      "source": [
        "#Fs = 1000 Hz\n",
        "\n",
        "ForceFs = 1000\n",
        "\n",
        "with h5py.File(Force_dir + Subj + '_Forces.mat', 'r') as file:\n",
        "    ForceNI = np.array(file['ForceNItrial'])\n",
        "    ForceNItime = np.array(file['ForceNItime'])\n",
        "    ForceNM = np.array(file['ForceNMtrial'])\n",
        "    ForceNMtime = np.array(file['ForceNMtime'])\n",
        "    ForceNR = np.array(file['ForceNRtrial'])\n",
        "    ForceNRtime = np.array(file['ForceNRtime'])\n",
        "    ForceNP = np.array(file['ForceNPtrial'])\n",
        "    ForceNPtime = np.array(file['ForceNPtime'])\n",
        "    \n",
        "    ForcePI = np.array(file['ForcePItrial'])\n",
        "    ForcePItime = np.array(file['ForcePItime'])\n",
        "    ForcePM = np.array(file['ForcePMtrial'])\n",
        "    ForcePMtime = np.array(file['ForcePMtime'])\n",
        "    ForcePR = np.array(file['ForcePRtrial'])\n",
        "    ForcePRtime = np.array(file['ForcePRtime'])\n",
        "    ForcePP = np.array(file['ForcePPtrial'])\n",
        "    ForcePPtime = np.array(file['ForcePPtime'])\n",
        "    \n",
        "    ForceSI = np.array(file['ForceSItrial'])\n",
        "    ForceSItime = np.array(file['ForceSItime'])\n",
        "    ForceSM = np.array(file['ForceSMtrial'])\n",
        "    ForceSMtime = np.array(file['ForceSMtime'])\n",
        "    ForceSR = np.array(file['ForceSRtrial'])\n",
        "    ForceSRtime = np.array(file['ForceSRtime'])\n",
        "    ForceSP = np.array(file['ForceSPtrial'])\n",
        "    ForceSPtime = np.array(file['ForceSPtime'])"
      ],
      "execution_count": 0,
      "outputs": []
    },
    {
      "cell_type": "code",
      "metadata": {
        "id": "heEUPC17zOg4",
        "colab_type": "code",
        "colab": {}
      },
      "source": [
        "#load emg data\n",
        "#careful, will take up ~4-8GB Memory\n",
        "\n",
        "#NPS = Neutral/Pronated/Supinated\n",
        "#IMRP = Index/Middle/Ring/Pinky\n",
        "\n",
        "#pick sample rate for appropriate subject\n",
        "if Subj == 'LV':\n",
        "    EMGFs =  2.5621e+03\n",
        "else:\n",
        "    EMGFs =  2.0497e+03\n",
        "\n",
        "with h5py.File(EMG_dir + Subj + '_EMGtrials.mat', 'r') as file:\n",
        "    EMGNI = np.array(file['EMGNI'])\n",
        "    EMGNM = np.array(file['EMGNM'])\n",
        "    EMGNR = np.array(file['EMGNR'])\n",
        "    EMGNP = np.array(file['EMGNP'])\n",
        "    \n",
        "    EMGPI = np.array(file['EMGPI'])\n",
        "    EMGPM = np.array(file['EMGPM'])\n",
        "    EMGPR = np.array(file['EMGPR'])\n",
        "    EMGPP = np.array(file['EMGPP'])\n",
        "    \n",
        "    EMGSI = np.array(file['EMGSI'])\n",
        "    EMGSM = np.array(file['EMGSM'])\n",
        "    EMGSR = np.array(file['EMGSR'])\n",
        "    EMGSP = np.array(file['EMGSP'])\n",
        "    \n",
        "#first repetition is skipped in case of user-adjustments at beginning of trial, cut off first 19 seconds of EMG data to match with force\n",
        "cutind = int(np.floor(19*EMGFs))\n",
        "EMGNI = EMGNI[:,cutind:]\n",
        "EMGNM = EMGNM[:,cutind:]\n",
        "EMGNR = EMGNR[:,cutind:]\n",
        "EMGNP = EMGNP[:,cutind:]\n",
        "\n",
        "EMGPI = EMGPI[:,cutind:]\n",
        "EMGPM = EMGPM[:,cutind:]\n",
        "EMGPR = EMGPR[:,cutind:]\n",
        "EMGPP = EMGPP[:,cutind:]\n",
        "\n",
        "EMGSI = EMGSI[:,cutind:]\n",
        "EMGSM = EMGSM[:,cutind:]\n",
        "EMGSR = EMGSR[:,cutind:]\n",
        "EMGSP = EMGSP[:,cutind:]"
      ],
      "execution_count": 0,
      "outputs": []
    },
    {
      "cell_type": "code",
      "metadata": {
        "id": "xYKE15_vzOg6",
        "colab_type": "code",
        "colab": {}
      },
      "source": [
        "#load spiketrain data\n",
        "\n",
        "#SpkTrn_PostureDecomposed_PostureforTrial_Finger\n",
        "#e.g. SpkTrnNSI = Neutral MUs, Supinated Trial, Index Finger\n",
        "#e.g. SpkTrnPPM = Pronated MUs, Pronated Trial, Middle Finger\n",
        "\n",
        "#compare Neutral MUs against MUs decomposed in Pronated/Supinated positions\n",
        "\n",
        "with h5py.File(Spks_dir + Subj + '_MUsyncscompiled.mat', 'r') as file:\n",
        "    \n",
        "    SpkTrnNNI = np.array(file['SpkTrnNNI'])\n",
        "    SpkTrnNNM = np.array(file['SpkTrnNNM'])\n",
        "    SpkTrnNNR = np.array(file['SpkTrnNNR'])\n",
        "    SpkTrnNNP = np.array(file['SpkTrnNNP'])\n",
        "    \n",
        "    SpkTrnNPI = np.array(file['SpkTrnNPI'])\n",
        "    SpkTrnNPM = np.array(file['SpkTrnNPM'])\n",
        "    SpkTrnNPR = np.array(file['SpkTrnNPR'])\n",
        "    SpkTrnNPP = np.array(file['SpkTrnNPP'])\n",
        "    \n",
        "    SpkTrnNSI = np.array(file['SpkTrnNSI'])\n",
        "    SpkTrnNSM = np.array(file['SpkTrnNSM'])\n",
        "    SpkTrnNSR = np.array(file['SpkTrnNSR'])\n",
        "    SpkTrnNSP = np.array(file['SpkTrnNSP'])\n",
        "      \n",
        "#     SpkTrnPNI = np.array(file['SpkTrnPNI'])\n",
        "#     SpkTrnPNM = np.array(file['SpkTrnPNM'])\n",
        "#     SpkTrnPNR = np.array(file['SpkTrnPNR'])\n",
        "#     SpkTrnPNP = np.array(file['SpkTrnPNP'])\n",
        "    \n",
        "    SpkTrnPPI = np.array(file['SpkTrnPPI'])\n",
        "    SpkTrnPPM = np.array(file['SpkTrnPPM'])\n",
        "    SpkTrnPPR = np.array(file['SpkTrnPPR'])\n",
        "    SpkTrnPPP = np.array(file['SpkTrnPPP'])\n",
        "    \n",
        "#     SpkTrnPSI = np.array(file['SpkTrnPSI'])\n",
        "#     SpkTrnPSM = np.array(file['SpkTrnPSM'])\n",
        "#     SpkTrnPSR = np.array(file['SpkTrnPSR'])\n",
        "#     SpkTrnPSP = np.array(file['SpkTrnPSP'])\n",
        "\n",
        "#     SpkTrnSNI = np.array(file['SpkTrnSNI'])\n",
        "#     SpkTrnSNM = np.array(file['SpkTrnSNM'])\n",
        "#     SpkTrnSNR = np.array(file['SpkTrnSNR'])\n",
        "#     SpkTrnSNP = np.array(file['SpkTrnSNP'])\n",
        "    \n",
        "#     SpkTrnSPI = np.array(file['SpkTrnSPI'])\n",
        "#     SpkTrnSPM = np.array(file['SpkTrnSPM'])\n",
        "#     SpkTrnSPR = np.array(file['SpkTrnSPR'])\n",
        "#     SpkTrnSPP = np.array(file['SpkTrnSPP'])\n",
        "    \n",
        "    SpkTrnSSI = np.array(file['SpkTrnSSI'])\n",
        "    SpkTrnSSM = np.array(file['SpkTrnSSM'])\n",
        "    SpkTrnSSR = np.array(file['SpkTrnSSR'])\n",
        "    SpkTrnSSP = np.array(file['SpkTrnSSP'])"
      ],
      "execution_count": 0,
      "outputs": []
    },
    {
      "cell_type": "markdown",
      "metadata": {
        "id": "Itw4P15kzOg8",
        "colab_type": "text"
      },
      "source": [
        "Note: After cutoff of EMG data it still has 1 extra index compared to SpkTrn, not sure why"
      ]
    },
    {
      "cell_type": "code",
      "metadata": {
        "id": "PVAltg3pzOg9",
        "colab_type": "code",
        "outputId": "9fa74dde-c023-41d6-e1ab-cb1ba0c5e624",
        "colab": {
          "base_uri": "https://localhost:8080/",
          "height": 121
        }
      },
      "source": [
        "print(np.shape(EMGNI))\n",
        "print(np.shape(SpkTrnNNI))\n",
        "print()\n",
        "print(np.shape(EMGSM))\n",
        "print(np.shape(SpkTrnSSM))\n",
        "print(np.shape(SpkTrnNSM))"
      ],
      "execution_count": 0,
      "outputs": [
        {
          "output_type": "stream",
          "text": [
            "(160, 412873)\n",
            "(23, 412873)\n",
            "\n",
            "(160, 412872)\n",
            "(32, 412872)\n",
            "(34, 412872)\n"
          ],
          "name": "stdout"
        }
      ]
    },
    {
      "cell_type": "code",
      "metadata": {
        "id": "IkmqpFcnzOhB",
        "colab_type": "code",
        "outputId": "c602998a-5ca3-4190-bd30-b2e173689e3d",
        "colab": {
          "base_uri": "https://localhost:8080/",
          "height": 138
        }
      },
      "source": [
        "print('Time per trial (seconds)')\n",
        "forcetime = np.size(ForceNP)/1000\n",
        "spktime = np.shape(SpkTrnNNM)[1]/EMGFs\n",
        "emgtime = np.shape(EMGPI)[1]/EMGFs\n",
        "print('Force Time')\n",
        "print(forcetime)\n",
        "print('EMG Time')\n",
        "print(emgtime)\n",
        "print('SpkTrain Time')\n",
        "print(spktime)"
      ],
      "execution_count": 0,
      "outputs": [
        {
          "output_type": "stream",
          "text": [
            "Time per trial (seconds)\n",
            "Force Time\n",
            "161.0\n",
            "EMG Time\n",
            "161.11392997931384\n",
            "SpkTrain Time\n",
            "161.1318840014051\n"
          ],
          "name": "stdout"
        }
      ]
    },
    {
      "cell_type": "code",
      "metadata": {
        "id": "TwrLPErFzOhD",
        "colab_type": "code",
        "outputId": "a9510969-4af5-4875-d392-da412b8d35d5",
        "colab": {
          "base_uri": "https://localhost:8080/",
          "height": 138
        }
      },
      "source": [
        "#check shape of data as it is now\n",
        "print('Shape of data')\n",
        "print('Force shape')\n",
        "print(np.shape(ForceNI))\n",
        "print('EMG shape')\n",
        "print(np.shape(EMGNI))\n",
        "print('Spike Train shape')\n",
        "print(np.shape(SpkTrnNNI))"
      ],
      "execution_count": 0,
      "outputs": [
        {
          "output_type": "stream",
          "text": [
            "Shape of data\n",
            "Force shape\n",
            "(1, 161000)\n",
            "EMG shape\n",
            "(160, 412873)\n",
            "Spike Train shape\n",
            "(23, 412873)\n"
          ],
          "name": "stdout"
        }
      ]
    },
    {
      "cell_type": "markdown",
      "metadata": {
        "id": "ISt36VZTzOhF",
        "colab_type": "text"
      },
      "source": [
        "Get RMS for EMG signals of top 85 channels"
      ]
    },
    {
      "cell_type": "code",
      "metadata": {
        "id": "cPW6ZOHfzOhF",
        "colab_type": "code",
        "colab": {}
      },
      "source": [
        "#calculate average rms of top channels\n",
        "#check this\n",
        "def rms(matrix,axis):\n",
        "  \n",
        "  return np.sqrt(np.mean(matrix**2,axis=axis))\n",
        "\n",
        "def rms_top_channels(matrix,topN):\n",
        "  rmsmatrix=rms(matrix,1)\n",
        "  channelInd=np.argpartition(rmsmatrix,-topN)[-topN:] \n",
        "  topchannels=np.mean(matrix[channelInd,:],axis=0)\n",
        "  return topchannels"
      ],
      "execution_count": 0,
      "outputs": []
    },
    {
      "cell_type": "code",
      "metadata": {
        "id": "EzeFmGvHzOhH",
        "colab_type": "code",
        "colab": {}
      },
      "source": [
        "#get mean rms values of top 85 channels\n",
        "NIrms=rms_top_channels(EMGNI,85)\n",
        "NMrms=rms_top_channels(EMGNM,85)\n",
        "NRrms=rms_top_channels(EMGNR,85)\n",
        "NPrms=rms_top_channels(EMGNP,85)\n",
        "\n",
        "PIrms=rms_top_channels(EMGPI,85)\n",
        "PMrms=rms_top_channels(EMGPM,85)\n",
        "PRrms=rms_top_channels(EMGPR,85)\n",
        "PPrms=rms_top_channels(EMGPP,85)\n",
        "\n",
        "SIrms=rms_top_channels(EMGSI,85)\n",
        "SMrms=rms_top_channels(EMGSM,85)\n",
        "SRrms=rms_top_channels(EMGSR,85)\n",
        "SPrms=rms_top_channels(EMGSP,85)\n",
        "#remove number of steps corresponding to extra time from emg data\n",
        "# NIrms=NIchannels[:,int((len(NIrms[0])*1/EMGFs-len(ForceNI)*1/1000)*EMGFs):]\n",
        "# NMrms=NIchannels[:,int((len(NMrms[0])*1/EMGFs-len(ForceNM)*1/1000)*EMGFs):]"
      ],
      "execution_count": 0,
      "outputs": []
    },
    {
      "cell_type": "code",
      "metadata": {
        "id": "N5yDx2fkzOhJ",
        "colab_type": "code",
        "colab": {}
      },
      "source": [
        "#calculate a rolling window, 500ms long incremented by 100ms\n",
        "#need to have windows of the average times as well (i.e. [.25, .35, .45...etc])\n",
        "def rolling_windows(signal,window,step,frequency):\n",
        "    \n",
        "    #check which dimension is time/longer\n",
        "    dim = np.argmax(np.shape(signal))\n",
        "    \n",
        "    windowSize=round(window*frequency)  \n",
        "    stepSize=round(step*frequency)\n",
        "    windows=[]\n",
        "    windtimes = []\n",
        "    for start in np.arange(0,signal.shape[dim]-windowSize+1,stepSize):\n",
        "        \n",
        "        #track window times\n",
        "        if start == 0: #start at half a window\n",
        "            windtimes.append(window/2)\n",
        "        else: #increment by one window step size\n",
        "            windtimes.append(windtimes[-1] + step)\n",
        "        \n",
        "        end=start+windowSize\n",
        "        \n",
        "        if len(np.shape(signal)) == 1: #if column vector\n",
        "            windows.append(np.array(signal[start:end]))\n",
        "        else:\n",
        "            if dim == 0:\n",
        "                windows.append(np.array(signal[start:end,:])) #go down rows\n",
        "            else:\n",
        "                windows.append(np.array(signal[:,start:end])) #go down column\n",
        "    \n",
        "    return windows,windtimes\n",
        "\n",
        "#get indices of the windows needed for cross-validation\n",
        "def crossvalidataprep(windtimes):\n",
        "    windtimes = np.array(windtimes)\n",
        "    crossvalsectind = []\n",
        "    Crossvaltimes = [0,26,49,72,95,118,141] #seconds, timing cutoffs for each repetition (7 total, last 141-end)\n",
        "    for i in range(len(Crossvaltimes)):\n",
        "        if i == 0:\n",
        "            crossvalsectind.append(0)\n",
        "        else:\n",
        "            tmp = windtimes - Crossvaltimes[i]\n",
        "            crossvalsectind.append(np.argmin(np.abs(tmp)))          \n",
        "    return crossvalsectind\n",
        "#crossvalsectind is vector of 6 values\n",
        "#section 1 = crossvalind[0] thru crossvalidind[1]-1\n",
        "#section 7 = crossvalind[end] to last window in signal"
      ],
      "execution_count": 0,
      "outputs": []
    },
    {
      "cell_type": "code",
      "metadata": {
        "id": "LNTISd11zOhL",
        "colab_type": "code",
        "colab": {}
      },
      "source": [
        "# STILL NEEDS FIXING. unsure where it's wrong, adapted from first presentation\n",
        "\n",
        "#Calculate firing rate of Spike Train across windows\n",
        "\n",
        "# def FRwind(SpkTrn,WinLength,StepLength,EMGFs):\n",
        "SpkTrn = SpkTrnNNI\n",
        "# dim = np.argmax(np.shape(signal))\n",
        "emglength = np.shape(SpkTrn)[1]\n",
        "WinLength = 0.5 #seconds\n",
        "StepLength = 0.1\n",
        "WinNumSample = int(EMGFs*WinLength)\n",
        "StepNumSample = int(EMGFs*StepLength)\n",
        "TimeMax = emglength/EMGFs\n",
        "TimeWin = np.arange(WinNumSample/EMGFs,TimeMax,StepNumSample/EMGFs,dtype='float')\n",
        "timeemg = np.arange(1/EMGFs,(1+emglength)/EMGFs,1/EMGFs,dtype='float')\n",
        "\n",
        "FR = []\n",
        "\n",
        "MUs = np.shape(SpkTrn)[0]\n",
        "\n",
        "for i in range(np.size(TimeWin)):\n",
        "    if i == 0: #first window\n",
        "        windstartind = 0\n",
        "        windstopind = np.argmin(abs(timeemg - WinLength))\n",
        "    \n",
        "    else: #move window forward\n",
        "        windstartind = windstartind + StepNumSample + 1\n",
        "        windstopind = windstopind + StepNumSample + 1\n",
        "        \n",
        "    if windstopind > emglength: #if next window goes past length of EMG, cut it off early\n",
        "        windstopind = emglength\n",
        "        WinLength = (windstopind - windstartind + 1)/EMGFs #last window time for new FR computation\n",
        "    \n",
        "    #compute firing rate in window\n",
        "    FRtemp = np.zeros((1,MUs))\n",
        "    for mu in range(MUs):\n",
        "        FRtemp[0,mu] = np.count_nonzero(SpkTrn[windstartind:windstopind,mu])/WinLength\n",
        "    \n",
        "    FR.append((np.mean(FRtemp))) #get average firing rate\n",
        "        \n",
        "    if windstopind == emglength: #end of that was last window\n",
        "        break\n",
        "#     return FR"
      ],
      "execution_count": 0,
      "outputs": []
    },
    {
      "cell_type": "code",
      "metadata": {
        "id": "GdvyCZzrzOhN",
        "colab_type": "code",
        "colab": {}
      },
      "source": [
        "EMGNIwind,EMGNIwindtimes = rolling_windows(NIrms,.5,.1,EMGFs)\n",
        "ForceNIwind,ForceNIwindtimes = rolling_windows(ForceNI,.5,.1,1000)\n",
        "EMGNMwind,EMGNMwindtimes = rolling_windows(NMrms,.5,.1,EMGFs)\n",
        "ForceNMwind,ForceNMwindtimes = rolling_windows(ForceNM,.5,.1,1000)\n",
        "EMGNRwind,EMGNRwindtimes = rolling_windows(NRrms,.5,.1,EMGFs)\n",
        "ForceNRwind,ForceNRwindtimes = rolling_windows(ForceNR,.5,.1,1000)\n",
        "EMGNPwind,EMGNPwindtimes = rolling_windows(NPrms,.5,.1,EMGFs)\n",
        "ForceNPwind,ForceNPwindtimes = rolling_windows(ForceNP,.5,.1,1000)\n",
        "EMGPIwind,EMGPIwindtimes = rolling_windows(PIrms,.5,.1,EMGFs)\n",
        "ForcePIwind,ForcePIwindtimes = rolling_windows(ForcePI,.5,.1,1000)\n",
        "EMGPMwind,EMGPMwindtimes = rolling_windows(PMrms,.5,.1,EMGFs)\n",
        "ForcePMwind,ForcePMwindtimes = rolling_windows(ForcePM,.5,.1,1000)\n",
        "EMGPRwind,EMGPRwindtimes = rolling_windows(PRrms,.5,.1,EMGFs)\n",
        "ForcePRwind,ForcePRwindtimes = rolling_windows(ForcePR,.5,.1,1000)\n",
        "EMGPPwind,EMGPPwindtimes = rolling_windows(PPrms,.5,.1,EMGFs)\n",
        "ForcePPwind,ForcePPwindtimes = rolling_windows(ForcePP,.5,.1,1000)\n",
        "EMGSIwind,EMGSIwindtimes = rolling_windows(SIrms,.5,.1,EMGFs)\n",
        "ForceSIwind,ForceSIwindtimes = rolling_windows(ForceSI,.5,.1,1000)\n",
        "EMGSMwind,EMGSMwindtimes = rolling_windows(SMrms,.5,.1,EMGFs)\n",
        "ForceSMwind,ForceSMwindtimes = rolling_windows(ForceSM,.5,.1,1000)\n",
        "EMGSRwind,EMGSRwindtimes = rolling_windows(SRrms,.5,.1,EMGFs)\n",
        "ForceSRwind,ForceSRwindtimes = rolling_windows(ForceSR,.5,.1,1000)\n",
        "EMGSPwind,EMGSPwindtimes = rolling_windows(SPrms,.5,.1,EMGFs)\n",
        "ForceSPwind,ForceSPwindtimes = rolling_windows(ForceSP,.5,.1,1000)\n",
        "#should be same # windows for all of them, only need this once\n",
        "crossvalsectind = crossvalidataprep(EMGNIwindtimes)"
      ],
      "execution_count": 0,
      "outputs": []
    },
    {
      "cell_type": "markdown",
      "metadata": {
        "id": "H29pejMdzOhT",
        "colab_type": "text"
      },
      "source": [
        "Cross-Correlate EMG/SpikeTrains & Force Data to account for delay; still needs solving"
      ]
    },
    {
      "cell_type": "code",
      "metadata": {
        "id": "qQYHQav0zOhV",
        "colab_type": "code",
        "outputId": "0924bb4d-5432-4c8b-d5b2-f89566b175ac",
        "colab": {
          "base_uri": "https://localhost:8080/",
          "height": 282
        }
      },
      "source": [
        "def crosscorr(a,b):\n",
        "  lag=np.correlate(a-np.mean(a),b-np.mean(b),mode='full')\n",
        "  lag=np.argmax(lag)\n",
        "  return lag\n",
        "#test cross-correlation not working\n",
        "x = np.linspace(0,2*pi,1000)\n",
        "a = np.sin(x)\n",
        "b = np.roll(a,shift=500)\n",
        "plt.plot(x,a,color='r')\n",
        "plt.plot(x,b,color='b')\n",
        "\n",
        "\n",
        "lag = crosscorr(a,b)\n",
        "print(lag)\n",
        "b_new = np.roll(b, shift=int(np.ceil(lag)))\n",
        "plt.plot(x,b_new,color='g')\n",
        "plt.show()"
      ],
      "execution_count": 0,
      "outputs": [
        {
          "output_type": "stream",
          "text": [
            "499\n"
          ],
          "name": "stdout"
        },
        {
          "output_type": "display_data",
          "data": {
            "image/png": "[encoded data removed]",
            "text/plain": [
              "<Figure size 432x288 with 1 Axes>"
            ]
          },
          "metadata": {
            "tags": []
          }
        }
      ]
    },
    {
      "cell_type": "code",
      "metadata": {
        "id": "Q_C_XH2-jgxM",
        "colab_type": "code",
        "colab": {}
      },
      "source": [
        "#rms\n",
        "EMGNIrms=[np.mean(rms(np.expand_dims(window,0),1)) for window in EMGNIwind]\n",
        "EMGNMrms=[np.mean(rms(np.expand_dims(window,0),1)) for window in EMGNMwind]\n",
        "EMGNRrms=[np.mean(rms(np.expand_dims(window,0),1)) for window in EMGNRwind]\n",
        "EMGNPrms=[np.mean(rms(np.expand_dims(window,0),1)) for window in EMGNPwind]\n",
        "EMGNIrms=[np.mean(rms(np.expand_dims(window,0),1)) for window in EMGNIwind]\n",
        "\n",
        "EMGPIrms=[np.mean(rms(np.expand_dims(window,0),1)) for window in EMGPIwind]\n",
        "EMGPMrms=[np.mean(rms(np.expand_dims(window,0),1)) for window in EMGPMwind]\n",
        "EMGPRrms=[np.mean(rms(np.expand_dims(window,0),1)) for window in EMGPRwind]\n",
        "EMGPPrms=[np.mean(rms(np.expand_dims(window,0),1)) for window in EMGPPwind]\n",
        "\n",
        "EMGSIrms=[np.mean(rms(np.expand_dims(window,0),1)) for window in EMGSIwind]\n",
        "EMGSMrms=[np.mean(rms(np.expand_dims(window,0),1)) for window in EMGSMwind]\n",
        "EMGSRrms=[np.mean(rms(np.expand_dims(window,0),1)) for window in EMGSRwind]\n",
        "EMGSPrms=[np.mean(rms(np.expand_dims(window,0),1)) for window in EMGSPwind]\n",
        "\n",
        "# get mean for force windows\n",
        "ForceNImean=[np.mean(window,axis=1) for window in ForceNIwind]\n",
        "ForceNMmean=[np.mean(window,axis=1) for window in ForceNMwind]\n",
        "ForceNRmean=[np.mean(window,axis=1) for window in ForceNRwind]\n",
        "ForceNPmean=[np.mean(window,axis=1) for window in ForceNPwind]\n",
        "\n",
        "ForcePImean=[np.mean(window,axis=1) for window in ForcePIwind]\n",
        "ForcePMmean=[np.mean(window,axis=1) for window in ForcePMwind]\n",
        "ForcePRmean=[np.mean(window,axis=1) for window in ForcePRwind]\n",
        "ForcePPmean=[np.mean(window,axis=1) for window in ForcePPwind]\n",
        "\n",
        "ForceSImean=[np.mean(window,axis=1) for window in ForceSIwind]\n",
        "ForcePMmean=[np.mean(window,axis=1) for window in ForceSMwind]\n",
        "ForcePRmean=[np.mean(window,axis=1) for window in ForceSRwind]\n",
        "ForceSPmean=[np.mean(window,axis=1) for window in ForceSPwind]\n",
        "\n"
      ],
      "execution_count": 0,
      "outputs": []
    },
    {
      "cell_type": "markdown",
      "metadata": {
        "id": "RdbpOX0czOhZ",
        "colab_type": "text"
      },
      "source": [
        "PLOT: before-after representative cross-correlation to fix lag-time between force & and emg/SpikeTrain data\n",
        "Feature Extraction/Engineering:"
      ]
    },
    {
      "cell_type": "code",
      "metadata": {
        "id": "beqNrxU2qtDd",
        "colab_type": "code",
        "colab": {}
      },
      "source": [
        "#remove extra dim\n",
        "test=np.squeeze(ForceNImean)\n",
        "test\n",
        "delay=crosscorr(EMGNIrms,test)"
      ],
      "execution_count": 0,
      "outputs": []
    },
    {
      "cell_type": "code",
      "metadata": {
        "id": "aQxMi8-PpaAi",
        "colab_type": "code",
        "outputId": "636d743b-334e-4a76-96cb-3133216e2f52",
        "colab": {
          "base_uri": "https://localhost:8080/",
          "height": 34
        }
      },
      "source": [
        "delay"
      ],
      "execution_count": 0,
      "outputs": [
        {
          "output_type": "execute_result",
          "data": {
            "text/plain": [
              "1606"
            ]
          },
          "metadata": {
            "tags": []
          },
          "execution_count": 85
        }
      ]
    },
    {
      "cell_type": "code",
      "metadata": {
        "id": "L2mbiy0CN34o",
        "colab_type": "code",
        "outputId": "d6909c64-21c4-4d22-9607-fb66b4f9c322",
        "colab": {
          "base_uri": "https://localhost:8080/",
          "height": 282
        }
      },
      "source": [
        "#let's do cross correlation\n",
        "tfrm_pipeline=Pipeline([('minmax_scaler', MinMaxScaler())])\n",
        "fi=tfrm_pipeline.fit_transform(np.array(test).reshape(-1,1))\n",
        "ni=tfrm_pipeline.fit_transform(np.array(EMGNIrms).reshape(-1,1))\n",
        "\n",
        "ftime=np.linspace(0,161,len(test))\n",
        "etime=np.linspace(0,161.11,len(EMGNIrms))\n",
        "plt.plot(ftime,fi,color='r')\n",
        "plt.plot(etime,ni,color='b')\n",
        "\n",
        "NIrms_shifted=np.roll(EMGNIrms,shift=-delay)\n",
        "nis=tfrm_pipeline.fit_transform(NIrms_shifted.reshape(-1,1))\n",
        "plt.plot(etime,nis,color='g')\n",
        "plt.xlim(0,20)\n"
      ],
      "execution_count": 0,
      "outputs": [
        {
          "output_type": "execute_result",
          "data": {
            "text/plain": [
              "(0, 20)"
            ]
          },
          "metadata": {
            "tags": []
          },
          "execution_count": 87
        },
        {
          "output_type": "display_data",
          "data": {
            "image/png": "[encoded data removed]",
            "text/plain": [
              "<Figure size 432x288 with 1 Axes>"
            ]
          },
          "metadata": {
            "tags": []
          }
        }
      ]
    },
    {
      "cell_type": "code",
      "metadata": {
        "id": "6jWUSmnDu576",
        "colab_type": "code",
        "colab": {}
      },
      "source": [
        "# get cross correlations for all above\n",
        "delayNI=crosscorr(np.squeeze(ForceNImean), EMGNIrms)\n",
        "delayNM=crosscorr(np.squeeze(ForceNImean), EMGNMrms)\n",
        "delayNR=crosscorr(np.squeeze(ForceNImean), EMGNRrms)\n",
        "delayNP=crosscorr(np.squeeze(ForceNImean), EMGNPrms)\n",
        "\n",
        "delayPI=crosscorr(np.squeeze(ForcePImean), EMGPIrms)\n",
        "delayPM=crosscorr(np.squeeze(ForcePMmean), EMGPMrms)\n",
        "delayPR=crosscorr(np.squeeze(ForcePRmean), EMGPRrms)\n",
        "delayPP=crosscorr(np.squeeze(ForcePPmean), EMGPPrms)\n",
        "\n",
        "delaySI=crosscorr(np.squeeze(ForceSImean), EMGSIrms)\n",
        "delaySM=crosscorr(np.squeeze(ForceSMmean), EMGSMrms)\n",
        "delaySR=crosscorr(np.squeeze(ForceSRmean), EMGSRrms)\n",
        "delaySP=crosscorr(np.squeeze(ForceSPmean), EMGSPrms)\n",
        "\n"
      ],
      "execution_count": 0,
      "outputs": []
    },
    {
      "cell_type": "code",
      "metadata": {
        "id": "oX1U8xlcxJqM",
        "colab_type": "code",
        "colab": {}
      },
      "source": [
        "def trim_delay(delay,data,force):\n",
        "  trimmedData=pd.DataFrame()\n",
        "  for feature in data.columns:\n",
        "    featdata=np.roll(data[feature],shift=-delay)\n",
        "    featdata=featdata[delay:]\n",
        "    trimmedData[feature]=featdata\n",
        "  \n",
        "  trimmedForce=force[delay:]\n",
        "\n",
        "  return trimmedData,trimmedForce\n",
        "\n",
        "EMGNItrim,ForceNItrim=trim_delay(delayNI,EMGNIfeatures,ForceNImean)\n",
        "EMGNMtrim,ForceNMtrim=trim_delay(delayNM,EMGNMfeatures,ForceNMmean)\n",
        "EMGNRtrim,ForceNRtrim=trim_delay(delayNR,EMGNRfeatures,ForceNRmean)\n",
        "EMGNPtrim,ForceNPtrim=trim_delay(delayNP,EMGNPfeatures,ForceNPmean)\n",
        "\n",
        "\n",
        "EMGPItrim,ForcePItrim=trim_delay(delayPI,EMGPIfeatures,ForcePImean)\n",
        "EMGPMtrim,ForcePMtrim=trim_delay(delayPM,EMGPMfeatures,ForcePMmean)\n",
        "EMGPRtrim,ForcePRtrim=trim_delay(delayPR,EMGPRfeatures,ForcePRmean)\n",
        "EMGPPtrim,ForcePPtrim=trim_delay(delayPP,EMGPPfeatures,ForcePPmean)\n",
        "\n",
        "EMGSItrim,ForceSItrim=trim_delay(delaySI,EMGSIfeatures,ForceSImean)\n",
        "EMGSMtrim,ForceSMtrim=trim_delay(delaySM,EMGSMfeatures,ForceSMmean)\n",
        "EMGSRtrim,ForceSRtrim=trim_delay(delaySR,EMGSRfeatures,ForceSRmean)\n",
        "EMGSPtrim,ForceSPtrim=trim_delay(delaySP,EMGSPfeatures,ForceSPmean)"
      ],
      "execution_count": 0,
      "outputs": []
    },
    {
      "cell_type": "markdown",
      "metadata": {
        "id": "jsOEECsFzOha",
        "colab_type": "text"
      },
      "source": [
        "PLOT: View correlations of features, remove some/etc.\n",
        "Regression of Features to Force for Prediction:"
      ]
    },
    {
      "cell_type": "code",
      "metadata": {
        "id": "uQjW1GOhjBWa",
        "colab_type": "code",
        "colab": {}
      },
      "source": [
        "\n"
      ],
      "execution_count": 0,
      "outputs": []
    },
    {
      "cell_type": "markdown",
      "metadata": {
        "id": "U6rBz9HmzOhb",
        "colab_type": "text"
      },
      "source": [
        "Prep Regressors"
      ]
    },
    {
      "cell_type": "code",
      "metadata": {
        "id": "k0jy0ioQzOhb",
        "colab_type": "code",
        "colab": {}
      },
      "source": [
        "# ICA: already done\n",
        "# PCA + K-Means\n",
        "# EMG Time-Domain & Frequency Domain Features:\n",
        "#     RMS\n",
        "#     zero-crossings\n",
        "# ANN???"
      ],
      "execution_count": 0,
      "outputs": []
    },
    {
      "cell_type": "code",
      "metadata": {
        "id": "81pLG5BizOhd",
        "colab_type": "code",
        "colab": {}
      },
      "source": [
        "# For MUs:\n",
        "#     Linear (try separate groups/coefficients for each MU, but also try using average Firing rate as one coefficient, what my post-doc has used)\n",
        "# For EMG:\n",
        "#     Linear\n",
        "#     ANN\n",
        "#     SVM\n",
        "#     ElasticNet\n",
        "#     Lasso\n",
        "#     Random-Forest\n",
        "#     Kernel-Reaching\n",
        "#     Gradient-Boost\n",
        "#     SGD Regressor"
      ],
      "execution_count": 0,
      "outputs": []
    },
    {
      "cell_type": "code",
      "metadata": {
        "id": "apkZnzwKzOhe",
        "colab_type": "code",
        "colab": {}
      },
      "source": [
        "# from sklearn.model_selection import cross_val_score,train_test_split,cross_validate\n",
        "# from sklearn import tree,linear_model,svm\n",
        "# from sklearn.preprocessing import MinMaxScaler,StandardScaler, OneHotEncoder\n",
        "# from sklearn.pipeline import Pipeline\n",
        "# from sklearn.metrics import r2_score\n",
        "# import scipy.fftpack as syfp\n",
        "# from sklearn.compose import ColumnTransformer"
      ],
      "execution_count": 0,
      "outputs": []
    },
    {
      "cell_type": "code",
      "metadata": {
        "id": "CT9q-008zOhj",
        "colab_type": "code",
        "colab": {}
      },
      "source": [
        "from sklearn.linear_model import ElasticNet, Lasso,  BayesianRidge, LassoLarsIC\n",
        "from sklearn.ensemble import RandomForestRegressor,  GradientBoostingRegressor\n",
        "from sklearn.kernel_ridge import KernelRidge\n",
        "from sklearn.pipeline import make_pipeline\n",
        "from sklearn.preprocessing import RobustScaler\n",
        "from sklearn.base import BaseEstimator, TransformerMixin, RegressorMixin, clone\n",
        "from sklearn.model_selection import KFold, cross_val_score, train_test_split\n",
        "from sklearn.metrics import mean_squared_error\n",
        "import xgboost as xgb\n",
        "import lightgbm as lgb\n",
        "\n",
        "KRR = KernelRidge(alpha=0.6, kernel='polynomial', degree=2, coef0=2.5)\n",
        "lasso = make_pipeline(RobustScaler(), Lasso(alpha =0.0005, random_state=1))\n",
        "ENet = make_pipeline(RobustScaler(), ElasticNet(alpha=0.0005, l1_ratio=.9, random_state=3))\n",
        "GBoost = GradientBoostingRegressor(n_estimators=3000, learning_rate=0.05,\n",
        "                                   max_depth=4, max_features='sqrt',\n",
        "                                   min_samples_leaf=15, min_samples_split=10, \n",
        "                                   loss='huber', random_state =5)\n",
        "XGBoost = xgb.XGBRegressor(colsample_bytree=0.4603, gamma=0.0468, \n",
        "                             learning_rate=0.05, max_depth=3, \n",
        "                             min_child_weight=1.7817, n_estimators=2200,\n",
        "                             reg_alpha=0.4640, reg_lambda=0.8571,\n",
        "                             subsample=0.5213, silent=1,\n",
        "                             random_state =7, nthread = -1)\n",
        "LightgBoost = lgb.LGBMRegressor(objective='regression',num_leaves=5,\n",
        "                              learning_rate=0.05, n_estimators=720,\n",
        "                              max_bin = 55, bagging_fraction = 0.8,\n",
        "                              bagging_freq = 5, feature_fraction = 0.2319,\n",
        "                              feature_fraction_seed=9, bagging_seed=9,\n",
        "                              min_data_in_leaf =6, min_sum_hessian_in_leaf = 11)"
      ],
      "execution_count": 0,
      "outputs": []
    },
    {
      "cell_type": "code",
      "metadata": {
        "id": "XLcZMY0-zOhq",
        "colab_type": "code",
        "colab": {}
      },
      "source": [
        "from mlxtend.regressor import StackingCVRegressor\n",
        "stack_gen = StackingCVRegressor(regressors=(KRR, lasso, ENet, GBoost,XGBoost,LightgBoost),\n",
        "                                meta_regressor=XGBoost,\n",
        "                                use_features_in_secondary=True)\n",
        "\n",
        "stack_gen_t = stack_gen.fit(train.values,y_train)\n",
        "\n",
        "predicted_prices = np.expm1(stack_gen_t.predict(test.values))\n",
        "Evaluation of Regressors:"
      ],
      "execution_count": 0,
      "outputs": []
    },
    {
      "cell_type": "code",
      "metadata": {
        "id": "cd_HWL-1zOhx",
        "colab_type": "code",
        "colab": {}
      },
      "source": [
        "# Rather than table maybe bar chart:\n",
        "\n",
        "# 4 Bar charts (one for each finger):\n",
        "#     two sets of bars (R^2 + RMSE)\n",
        "#         one bar for each model:\n",
        "#             plot Mean +/- SD/SE across subjects\n",
        "# sort by ranking or model??\n",
        "# Use Linear for MUs, Linear + other top regressor model for comparison\n",
        "# Further Analysis\n",
        "# Comparisons repeated-measure ANOVA?\n",
        "# Compare R^2/RMSE of MU regression against EMG\n",
        "# Compare MUs regression of Neutral vs MUs decomposed in other posture"
      ],
      "execution_count": 0,
      "outputs": []
    }
  ]
}