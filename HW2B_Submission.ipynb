{
 "cells": [
  {
   "cell_type": "markdown",
   "metadata": {
    "slideshow": {
     "slide_type": "slide"
    }
   },
   "source": [
    "# Homeworks\n",
    "\n",
    "* For the following interpretations of Matrix-vector and Matrix-Matrix product write the corresponding python code using for loops, as exemplified during the lecture.\n",
    "* You need to complete the example partial codes provided below\n",
    "* Two relevant examples from class follow\n"
   ]
  },
  {
   "cell_type": "markdown",
   "metadata": {
    "slideshow": {
     "slide_type": "subslide"
    }
   },
   "source": [
    "### Example matrix-vector products\n",
    "![](assets/Lecture_5_text-7f3aa5f7.png)\n",
    "![](assets/Lecture_5_text-95ec9688.png)\n",
    "![](assets/Lecture_5_text-cf1e838d.png)"
   ]
  },
  {
   "cell_type": "code",
   "execution_count": 1,
   "metadata": {
    "slideshow": {
     "slide_type": "subslide"
    }
   },
   "outputs": [
    {
     "name": "stdout",
     "output_type": "stream",
     "text": [
      "True\n"
     ]
    }
   ],
   "source": [
    "import numpy as np\n",
    "# example writing A by rows\n",
    "A = np.random.random((3,4))\n",
    "x = np.random.random((4,))\n",
    "y = np.zeros( A.shape[0])\n",
    "\n",
    "for n in range(A.shape[0]):\n",
    "        y[n] = A[n,:]@x\n",
    "            \n",
    "print(np.allclose(y,A@x)) # check if vectors are the same          "
   ]
  },
  {
   "cell_type": "code",
   "execution_count": 2,
   "metadata": {
    "slideshow": {
     "slide_type": "-"
    }
   },
   "outputs": [
    {
     "name": "stdout",
     "output_type": "stream",
     "text": [
      "True\n"
     ]
    }
   ],
   "source": [
    "# example writing A by columns\n",
    "y = np.zeros( A.shape[0])\n",
    "\n",
    "for n in range(A.shape[1]):\n",
    "        y += A[:,n]*x[n]\n",
    "            \n",
    "print(np.allclose(y,A@x))  # check if vectors are the same          "
   ]
  },
  {
   "cell_type": "markdown",
   "metadata": {
    "slideshow": {
     "slide_type": "slide"
    }
   },
   "source": [
    "### Exercise 1:  vector-matrix product, with matrix interpreted as column vectors  (2 pts)"
   ]
  },
  {
   "cell_type": "markdown",
   "metadata": {
    "slideshow": {
     "slide_type": "slide"
    }
   },
   "source": [
    "![](assets/Lecture_5_text-fd5b6364.png)"
   ]
  },
  {
   "cell_type": "code",
   "execution_count": 69,
   "metadata": {},
   "outputs": [
    {
     "name": "stdout",
     "output_type": "stream",
     "text": [
      "[[0.37336171 0.60019338 0.34681133 0.85571321]]\n",
      "True\n"
     ]
    }
   ],
   "source": [
    "import numpy as np\n",
    "# example writing A by rows\n",
    "x = np.random.random((3,1))\n",
    "A = np.random.random((3,4))\n",
    "y = np.zeros((x.T.shape[0], A.shape[1]))\n",
    "\n",
    "# ADD YOUR CODE HERE \n",
    "for j in range(A.shape[1]):\n",
    "    y.T[j] = x.T@A[:,j]\n",
    "\n",
    "print(y)   \n",
    "print(np.allclose(y,x.T@A)) # check if vectors are the same          "
   ]
  },
  {
   "cell_type": "code",
   "execution_count": null,
   "metadata": {},
   "outputs": [],
   "source": []
  },
  {
   "cell_type": "markdown",
   "metadata": {
    "slideshow": {
     "slide_type": "slide"
    }
   },
   "source": [
    "### Exercise 2:  vector-matrix product, with matrix interpreted as row vectors  (2 pts)"
   ]
  },
  {
   "cell_type": "markdown",
   "metadata": {
    "slideshow": {
     "slide_type": "slide"
    }
   },
   "source": [
    "![](assets/Lecture_5_text-3da1ef5b.png)"
   ]
  },
  {
   "cell_type": "code",
   "execution_count": 87,
   "metadata": {
    "slideshow": {
     "slide_type": "slide"
    }
   },
   "outputs": [
    {
     "name": "stdout",
     "output_type": "stream",
     "text": [
      "True\n"
     ]
    }
   ],
   "source": [
    "import numpy as np\n",
    "# example writing A by rows\n",
    "x = np.random.random((3,1))\n",
    "A = np.random.random((3,4))\n",
    "y = np.zeros((x.T.shape[0], A.shape[1]))\n",
    "\n",
    "# ADD YOUR CODE HERE\n",
    "#print(y.shape[1])\n",
    "#print(A.shape[0])\n",
    "for j in range(y.shape[1]):\n",
    "    for i in range(A.shape[0]):\n",
    "        y.T[j] += x[i]*A[i,j]\n",
    "\n",
    "print(np.allclose(y,x.T@A)) # check if vectors are the same          "
   ]
  },
  {
   "cell_type": "markdown",
   "metadata": {},
   "source": [
    "### Exercise 3:  matrix-matrix product, with two matrices interpreted as row and column vectors  (2 pts)"
   ]
  },
  {
   "cell_type": "markdown",
   "metadata": {
    "slideshow": {
     "slide_type": "slide"
    }
   },
   "source": [
    "# matrix-matrix products\n",
    "\n",
    "we will look at the different ways to interpret the product C = AB, generalizing what seen above\n",
    "\n",
    "* A rows, B columns\n",
    "![](assets/Lecture_5_text-291584e5.png)"
   ]
  },
  {
   "cell_type": "code",
   "execution_count": 93,
   "metadata": {},
   "outputs": [
    {
     "name": "stdout",
     "output_type": "stream",
     "text": [
      "True\n"
     ]
    }
   ],
   "source": [
    "import numpy as np\n",
    "# example writing A by rows\n",
    "A = np.random.random((3,4))\n",
    "B = np.random.random((4,5))\n",
    "C = np.zeros((A.shape[0], B.shape[1]))\n",
    "row, col = C.shape\n",
    "\n",
    "## ADD YOUR CODE HERE\n",
    "for i in range(row):\n",
    "    for j in range(col):\n",
    "        C[i,j] = A[i,:]@B[:,j]\n",
    "    \n",
    "print(np.allclose(C,A@B)) # check if vectors are the same          "
   ]
  },
  {
   "cell_type": "markdown",
   "metadata": {
    "slideshow": {
     "slide_type": "slide"
    }
   },
   "source": [
    "### Exercise 4:  matrix-matrix product, with two matrices interpreted as column and row vectors  (2 pts)"
   ]
  },
  {
   "cell_type": "markdown",
   "metadata": {
    "slideshow": {
     "slide_type": "subslide"
    }
   },
   "source": [
    "* A columns, B rows\n",
    "![](assets/Lecture_5_text-4da76187.png)\n",
    "AB is equal to the sum, over all i, of the outer product of the i-th column of A and the i-th row of B. Difficult expression."
   ]
  },
  {
   "cell_type": "code",
   "execution_count": 110,
   "metadata": {},
   "outputs": [
    {
     "name": "stdout",
     "output_type": "stream",
     "text": [
      "True\n"
     ]
    }
   ],
   "source": [
    "import numpy as np\n",
    "# example writing A by rows\n",
    "A = np.random.random((3,4))\n",
    "B = np.random.random((4,5))\n",
    "C = np.zeros((A.shape[0], B.shape[1]))\n",
    "\n",
    "## ADD YOUR CODE HERE (beware this is tricky but highly educative!)\n",
    "n = A.shape[1]\n",
    "for i in range(n):\n",
    "    C += np.outer(A[:,i],B[i,:])\n",
    "    \n",
    "print(np.allclose(C,A@B)) # check if vectors are the same          "
   ]
  },
  {
   "cell_type": "markdown",
   "metadata": {},
   "source": [
    "### Exercise 5:  trace of a matrix  (1 pt)\n",
    "\n",
    "*  implement the trace operation using one for loop\n",
    "*  probe using python code the properties of traces"
   ]
  },
  {
   "cell_type": "markdown",
   "metadata": {
    "slideshow": {
     "slide_type": "subslide"
    }
   },
   "source": [
    "### trace of a matrix\n",
    "![](assets/Lecture_5_text-1d8e4959.png)"
   ]
  },
  {
   "cell_type": "code",
   "execution_count": 126,
   "metadata": {},
   "outputs": [
    {
     "name": "stdout",
     "output_type": "stream",
     "text": [
      "True\n"
     ]
    }
   ],
   "source": [
    "#implement the trace operation using one for loop\n",
    "A = np.random.random((3,3))\n",
    "\n",
    "trc = 0\n",
    "### add your code here\n",
    "for i in range(A.shape[0]):\n",
    "    trc += A[i,i]\n",
    "\n",
    "print(np.allclose(trc,np.trace(A))) # check if vectors are the same          "
   ]
  },
  {
   "cell_type": "markdown",
   "metadata": {
    "slideshow": {
     "slide_type": "subslide"
    }
   },
   "source": [
    "### Properties of trace\n",
    "![](assets/Lecture_5_text-13f536da.png)"
   ]
  },
  {
   "cell_type": "code",
   "execution_count": 141,
   "metadata": {},
   "outputs": [
    {
     "name": "stdout",
     "output_type": "stream",
     "text": [
      "True\n",
      "True\n",
      "True\n",
      "True\n",
      "*\n",
      "True\n",
      "True\n",
      "True\n"
     ]
    }
   ],
   "source": [
    "# probe using python code the properties of traces\n",
    "# Example property one\n",
    "A = np.random.random((3,3))\n",
    "print(np.allclose(np.trace(A),np.trace(A.T)))\n",
    "\n",
    "# Example property two\n",
    "B = np.random.random((3,3))\n",
    "print(np.allclose(np.trace(A+B),np.trace(A) + np.trace(B)))\n",
    "\n",
    "\n",
    "## add here your code for property 3\n",
    "A = np.random.random((3,3))\n",
    "t = 5\n",
    "print(np.allclose(np.trace(t*A),t*np.trace(A)))\n",
    "\n",
    "\n",
    "## add here your code for property 4\n",
    "A = np.random.random((3,4))\n",
    "B = np.random.random((4,3))\n",
    "\n",
    "print(np.allclose(np.trace(A@B),np.trace(B@A)))\n",
    "\n",
    "\n",
    "## add here your code for property 5\n",
    "A = np.random.random((3,3))\n",
    "B = np.random.random((3,4))\n",
    "C = np.random.random((4,3))\n",
    "\n",
    "print('*')\n",
    "print(np.allclose(np.trace(A@B@C),np.trace(B@C@A)))\n",
    "print(np.allclose(np.trace(A@B@C),np.trace(C@A@B)))\n",
    "print(np.allclose(np.trace(B@C@A),np.trace(C@A@B)))"
   ]
  },
  {
   "cell_type": "markdown",
   "metadata": {},
   "source": [
    "### Exercise 6:  Matrix-matrix multiplication with second matrix interpreted as column  (2 pts)"
   ]
  },
  {
   "cell_type": "markdown",
   "metadata": {
    "slideshow": {
     "slide_type": "subslide"
    }
   },
   "source": [
    "Set of matrix-vector products\n",
    "![](assets/Lecture_5_text-1a3dac83.png)\""
   ]
  },
  {
   "cell_type": "code",
   "execution_count": 144,
   "metadata": {},
   "outputs": [
    {
     "name": "stdout",
     "output_type": "stream",
     "text": [
      "True\n"
     ]
    }
   ],
   "source": [
    "A = np.random.random((3,4))\n",
    "B = np.random.random((4,5))\n",
    "rows, cols = A.shape[0], B.shape[1]\n",
    "C = np.zeros((rows, cols))\n",
    "\n",
    "## ADD YOUR CODE HERE\n",
    "for i in range(cols):\n",
    "    C[:,i] = A@B[:,i]\n",
    "            \n",
    "print(np.allclose(C,A@B))     "
   ]
  },
  {
   "cell_type": "markdown",
   "metadata": {},
   "source": [
    "### Exercise 7:  Matrix-matrix multiplication with first matrix interpreted as rows  (2 pts)"
   ]
  },
  {
   "cell_type": "markdown",
   "metadata": {
    "slideshow": {
     "slide_type": "subslide"
    }
   },
   "source": [
    "![](assets/Lecture_5_text-5c8cebb4.png)"
   ]
  },
  {
   "cell_type": "code",
   "execution_count": 145,
   "metadata": {},
   "outputs": [
    {
     "name": "stdout",
     "output_type": "stream",
     "text": [
      "True\n"
     ]
    }
   ],
   "source": [
    "A = np.random.random((3,4))\n",
    "B = np.random.random((4,5))\n",
    "rows, cols = A.shape[0], B.shape[1]\n",
    "C = np.zeros((rows, cols))\n",
    "\n",
    "## ADD YOUR CODE HERE\n",
    "for i in range(rows):\n",
    "    C[i,:] = A[i,:]@B\n",
    "            \n",
    "print(np.allclose(C,A@B))     "
   ]
  },
  {
   "cell_type": "code",
   "execution_count": null,
   "metadata": {},
   "outputs": [],
   "source": []
  }
 ],
 "metadata": {
  "celltoolbar": "Slideshow",
  "kernelspec": {
   "display_name": "Python 3",
   "language": "python",
   "name": "python3"
  },
  "language_info": {
   "codemirror_mode": {
    "name": "ipython",
    "version": 3
   },
   "file_extension": ".py",
   "mimetype": "text/x-python",
   "name": "python",
   "nbconvert_exporter": "python",
   "pygments_lexer": "ipython3",
   "version": "3.7.3"
  },
  "rise": {
   "backimage": "mybackimage.png"
  }
 },
 "nbformat": 4,
 "nbformat_minor": 2
}
