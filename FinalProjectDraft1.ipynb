{
 "cells": [
  {
   "cell_type": "markdown",
   "metadata": {
    "colab_type": "text",
    "id": "vnCkM3Dn_6nU"
   },
   "source": [
    "# Final Project\n",
    "# Sang Chung, Noah Rubin, Alison Schaefer"
   ]
  },
  {
   "cell_type": "markdown",
   "metadata": {
    "colab_type": "text",
    "id": "u5tAXo4L_6nV"
   },
   "source": [
    "## Intro/Background"
   ]
  },
  {
   "cell_type": "markdown",
   "metadata": {},
   "source": [
    "### Import Data"
   ]
  },
  {
   "cell_type": "code",
   "execution_count": 5,
   "metadata": {},
   "outputs": [],
   "source": [
    "import numpy as np\n",
    "import pandas as pd\n",
    "import os\n",
    "import sys\n",
    "import matplotlib.pyplot as plt\n",
    "from scipy.io import loadmat\n",
    "import h5py"
   ]
  },
  {
   "cell_type": "code",
   "execution_count": null,
   "metadata": {},
   "outputs": [],
   "source": [
    "# from sklearn.model_selection import cross_val_score,train_test_split,cross_validate\n",
    "# from sklearn import tree,linear_model,svm\n",
    "# from sklearn.preprocessing import MinMaxScaler,StandardScaler, OneHotEncoder\n",
    "# from sklearn.pipeline import Pipeline\n",
    "# from sklearn.metrics import r2_score\n",
    "# import scipy.fftpack as syfp\n",
    "# from sklearn.compose import ColumnTransformer"
   ]
  },
  {
   "cell_type": "code",
   "execution_count": null,
   "metadata": {},
   "outputs": [],
   "source": [
    "# directory (dependent on what comp being used)\n",
    "# data_dir='./drive/My Drive/BMME890_MachineLearning/YZ_PilotDataTest'\n",
    "data_dir ='C:/Users/nmrubin/Desktop/BMME890MachineLearningProject/GoogleDrive/ProjectData'\n",
    "\n",
    "#import neutral position emg data\n",
    "#loadmat can't work with matlab v 7.3, use h5py\n",
    "\n",
    "#ordered by subjects 1-8\n",
    "Subjects= ['LV','KH','XH','HS','RC','NR','YZ','AM']\n",
    "\n",
    "EMG_dir = data_dir + '/EMGData/'\n",
    "Force_dir = data_dir + '/ForceData/'\n",
    "Spks_dir = data_dir + '/SpikeTrainsData/'\n",
    "# print(Subjects)\n",
    "\n",
    "#later -> go through all subjects\n",
    "for i in range(len(Subjects)): #Subject\n",
    "    Subj = Subjects[i]\n",
    "\n",
    "#for now one subject\n",
    "Subj = 'LV'\n",
    "\n"
   ]
  },
  {
   "cell_type": "code",
   "execution_count": 96,
   "metadata": {},
   "outputs": [],
   "source": [
    "#load emg data\n",
    "#careful, will take up ~4-8GB Memory\n",
    "\n",
    "#NPS = Neutral/Pronated/Supinated\n",
    "#IMRP = Index/Middle/Ring/Pinky\n",
    "\n",
    "#pick sample rate for appropriate subject\n",
    "if Subj == 'LV':\n",
    "    EMGFs =  2.5621e+03\n",
    "else:\n",
    "    EMGFs =  2.0497e+03\n",
    "\n",
    "with h5py.File(EMG_dir + Subj + '_EMGtrials.mat', 'r') as file:\n",
    "    EMGNI = np.array(file['EMGNI'])\n",
    "    EMGNM = np.array(file['EMGNM'])\n",
    "    EMGNR = np.array(file['EMGNR'])\n",
    "    EMGNP = np.array(file['EMGNP'])\n",
    "    \n",
    "    EMGPI = np.array(file['EMGPI'])\n",
    "    EMGPM = np.array(file['EMGPM'])\n",
    "    EMGPR = np.array(file['EMGPR'])\n",
    "    EMGPP = np.array(file['EMGPP'])\n",
    "    \n",
    "    EMGSI = np.array(file['EMGSI'])\n",
    "    EMGSM = np.array(file['EMGSM'])\n",
    "    EMGSR = np.array(file['EMGSR'])\n",
    "    EMGSP = np.array(file['EMGSP'])"
   ]
  },
  {
   "cell_type": "code",
   "execution_count": null,
   "metadata": {},
   "outputs": [],
   "source": [
    "#load force data\n",
    "#Fs = 1000 Hz\n",
    "with h5py.File(Force_dir + Subj + '_Forces.mat', 'r') as file:\n",
    "    ForceNI = np.array(file['ForceNItrial'])\n",
    "    ForceNItime = np.array(file['ForceNItime'])\n",
    "    ForceNM = np.array(file['ForceNMtrial'])\n",
    "    ForceNMtime = np.array(file['ForceNMtime'])\n",
    "    ForceNR = np.array(file['ForceNRtrial'])\n",
    "    ForceNRtime = np.array(file['ForceNRtime'])\n",
    "    ForceNP = np.array(file['ForceNPtrial'])\n",
    "    ForceNPtime = np.array(file['ForceNPtime'])\n",
    "    \n",
    "    ForcePI = np.array(file['ForcePItrial'])\n",
    "    ForcePItime = np.array(file['ForcePItime'])\n",
    "    ForcePM = np.array(file['ForcePMtrial'])\n",
    "    ForcePMtime = np.array(file['ForcePMtime'])\n",
    "    ForcePR = np.array(file['ForcePRtrial'])\n",
    "    ForcePRtime = np.array(file['ForcePRtime'])\n",
    "    ForcePP = np.array(file['ForcePPtrial'])\n",
    "    ForcePPtime = np.array(file['ForcePPtime'])\n",
    "    \n",
    "    ForceSI = np.array(file['ForceSItrial'])\n",
    "    ForceSItime = np.array(file['ForceSItime'])\n",
    "    ForceSM = np.array(file['ForceSMtrial'])\n",
    "    ForceSMtime = np.array(file['ForceSMtime'])\n",
    "    ForceSR = np.array(file['ForceSRtrial'])\n",
    "    ForceSRtime = np.array(file['ForceSRtime'])\n",
    "    ForceSP = np.array(file['ForceSPtrial'])\n",
    "    ForceSPtime = np.array(file['ForceSPtime'])"
   ]
  },
  {
   "cell_type": "code",
   "execution_count": 63,
   "metadata": {},
   "outputs": [],
   "source": [
    "#load spiketrain data\n",
    "\n",
    "#SpkTrn_PostureDecomposed_PostureforTrial_Finger\n",
    "#e.g. SpkTrnNSI = Neutral MUs, Supinated Trial, Index Finger\n",
    "#e.g. SpkTrnPPM = Pronated MUs, Pronated Trial, Middle Finger\n",
    "\n",
    "#compare Neutral MUs against MUs decomposed in Pronated/Supinated positions\n",
    "\n",
    "with h5py.File(Spks_dir + Subj + '_MUsyncscompiled.mat', 'r') as file:\n",
    "    \n",
    "    SpkTrnNNI = np.array(file['SpkTrnNNI'])\n",
    "    SpkTrnNNM = np.array(file['SpkTrnNNM'])\n",
    "    SpkTrnNNR = np.array(file['SpkTrnNNR'])\n",
    "    SpkTrnNNP = np.array(file['SpkTrnNNP'])\n",
    "    \n",
    "    SpkTrnNPI = np.array(file['SpkTrnNPI'])\n",
    "    SpkTrnNPM = np.array(file['SpkTrnNPM'])\n",
    "    SpkTrnNPR = np.array(file['SpkTrnNPR'])\n",
    "    SpkTrnNPP = np.array(file['SpkTrnNPP'])\n",
    "    \n",
    "    SpkTrnNSI = np.array(file['SpkTrnNSI'])\n",
    "    SpkTrnNSM = np.array(file['SpkTrnNSM'])\n",
    "    SpkTrnNSR = np.array(file['SpkTrnNSR'])\n",
    "    SpkTrnNSP = np.array(file['SpkTrnNSP'])\n",
    "      \n",
    "#     SpkTrnPNI = np.array(file['SpkTrnPNI'])\n",
    "#     SpkTrnPNM = np.array(file['SpkTrnPNM'])\n",
    "#     SpkTrnPNR = np.array(file['SpkTrnPNR'])\n",
    "#     SpkTrnPNP = np.array(file['SpkTrnPNP'])\n",
    "    \n",
    "    SpkTrnPPI = np.array(file['SpkTrnPPI'])\n",
    "    SpkTrnPPM = np.array(file['SpkTrnPPM'])\n",
    "    SpkTrnPPR = np.array(file['SpkTrnPPR'])\n",
    "    SpkTrnPPP = np.array(file['SpkTrnPPP'])\n",
    "    \n",
    "#     SpkTrnPSI = np.array(file['SpkTrnPSI'])\n",
    "#     SpkTrnPSM = np.array(file['SpkTrnPSM'])\n",
    "#     SpkTrnPSR = np.array(file['SpkTrnPSR'])\n",
    "#     SpkTrnPSP = np.array(file['SpkTrnPSP'])\n",
    "\n",
    "#     SpkTrnSNI = np.array(file['SpkTrnSNI'])\n",
    "#     SpkTrnSNM = np.array(file['SpkTrnSNM'])\n",
    "#     SpkTrnSNR = np.array(file['SpkTrnSNR'])\n",
    "#     SpkTrnSNP = np.array(file['SpkTrnSNP'])\n",
    "    \n",
    "#     SpkTrnSPI = np.array(file['SpkTrnSPI'])\n",
    "#     SpkTrnSPM = np.array(file['SpkTrnSPM'])\n",
    "#     SpkTrnSPR = np.array(file['SpkTrnSPR'])\n",
    "#     SpkTrnSPP = np.array(file['SpkTrnSPP'])\n",
    "    \n",
    "    SpkTrnSSI = np.array(file['SpkTrnSSI'])\n",
    "    SpkTrnSSM = np.array(file['SpkTrnSSM'])\n",
    "    SpkTrnSSR = np.array(file['SpkTrnSSR'])\n",
    "    SpkTrnSSP = np.array(file['SpkTrnSSP'])"
   ]
  },
  {
   "cell_type": "code",
   "execution_count": 176,
   "metadata": {},
   "outputs": [],
   "source": [
    "#getting error with this\n",
    "#calculate a rolling window, 500ms long incremeted by 100ms\n",
    "def rolling_windows(signal,window,step,frequency):\n",
    "  windowSize=round(window*frequency)  \n",
    "  stepSize=round(step*frequency)\n",
    "  windows=[]\n",
    "  for start in np.arange(0,signal.shape[1]-windowSize+1,stepSize):\n",
    "    end=start+windowSize\n",
    "    windows.append(np.array(signal[:,start:end]))\n",
    "    \n",
    "  return windows\n",
    "\n",
    "iwindows=rolling_windows(ichannels,.5,.1,2048)\n",
    "mwindows=rolling_windows(mchannels,.5,.1,2048)\n",
    "\n",
    "ifwindows=rolling_windows(fi.T,.5,.1,1000)[0:-2]\n",
    "mfwindows=rolling_windows(fm.T,.5,.1,1000)[0:-2]"
   ]
  },
  {
   "cell_type": "code",
   "execution_count": 246,
   "metadata": {},
   "outputs": [],
   "source": [
    "#redoing moving window\n",
    "def rollingmean(signal,winsize,windstep,Fs):\n",
    "\n",
    "    # number of samples in each window\n",
    "    windsizeind = int(np.floor(winsize*Fs))\n",
    "    signaltime = np.linspace(1/Fs,len(signal)/Fs,len(signal))\n",
    "\n",
    "    numwins = int(np.floor(np.size(signal)/Fs/winstep))\n",
    "\n",
    "    #average time for that window\n",
    "    windtime = []\n",
    "    #average signal value for that window\n",
    "    windmean = []\n",
    "\n",
    "    windtimetmp = winsize/2\n",
    "    startind = 0\n",
    "    for windownum in range(numwins):\n",
    "\n",
    "        #if at end of signal, use smaller window\n",
    "        if startind + windsizeind - 1 > len(signal):\n",
    "            endind = len(signal)\n",
    "        else:\n",
    "            endind = startind + windsizeind - 1\n",
    "\n",
    "        windmean.append(np.mean(signal[startind:startind + windsizeind - 1]))\n",
    "\n",
    "        windtime.append(windtimetmp)\n",
    "        windtimetmp = windtimetmp + winstep\n",
    "        startind = startind + windsizeind\n",
    "\n",
    "    return windtime,windmean"
   ]
  },
  {
   "cell_type": "code",
   "execution_count": 64,
   "metadata": {},
   "outputs": [],
   "source": [
    "#calculate rms of each channel and retrieve channels with highest rms\n",
    "#check this\n",
    "def rms(matrix,axis):\n",
    "  \n",
    "  return np.sqrt(np.mean(matrix**2,axis=axis))\n",
    "\n",
    "def rms_top_channels(matrix,topN):\n",
    "  rmsmatrix=rms(matrix,1)\n",
    "  channelInd=np.argpartition(rmsmatrix,-topN)[-topN:]\n",
    "  topchannels=matrix[channelInd,:]\n",
    "  return topchannels"
   ]
  },
  {
   "cell_type": "code",
   "execution_count": 295,
   "metadata": {},
   "outputs": [],
   "source": [
    "#get rms values of top 85 channels\n",
    "NIrms=rms_top_channels(EMGNI,85)\n",
    "NMrms=rms_top_channels(EMGNM,85)\n",
    "NRrms=rms_top_channels(EMGNR,85)\n",
    "NPrms=rms_top_channels(EMGNP,85)\n",
    "#remove number of steps corresponding to extra time from emg data\n",
    "# NIrms=NIchannels[:,int((len(NIrms[0])*1/EMGFs-len(ForceNI)*1/1000)*EMGFs):]\n",
    "# NMrms=NIchannels[:,int((len(NMrms[0])*1/EMGFs-len(ForceNM)*1/1000)*EMGFs):]\n",
    "\n",
    "#convert RMS to mean of all 85 channels\n",
    "NIrms = np.mean(NIrms,axis=0)\n",
    "NMrms = np.mean(NMrms,axis=0)\n",
    "NRrms = np.mean(NRrms,axis=0)\n",
    "NPrms = np.mean(NPrms,axis=0)\n",
    "\n",
    "\n",
    "#get windows of RMS data & force data before cross-correlation\n",
    "\n",
    "#SOMETHING NOT RIGHT with this calculation till, only goes out to \n",
    "NIrmstime,NIrmswind=rollingmean(NIrms,.5,.1,EMGFs)\n",
    "# NMrmswind=rollingmean(NMrms,.5,.1,EMGFs)\n",
    "# NIfrcwind=rollingmean(ForceNI.T,.5,.1,1000)[0:-2]\n",
    "# NMfrcwind=rollingmean(ForceNM.T,.5,.1,1000)[0:-2]\n",
    "\n",
    "ForceFs = 1000\n",
    "NIfrctime,NIfrcwind = rollingmean(ForceNI,.5,.1,ForceFs)"
   ]
  },
  {
   "cell_type": "markdown",
   "metadata": {
    "colab": {},
    "colab_type": "code",
    "id": "QuD-3d5O_6nZ"
   },
   "source": [
    "Cross-Correlate EMG/SpikeTrains & Force Data to account for delay"
   ]
  },
  {
   "cell_type": "code",
   "execution_count": 296,
   "metadata": {},
   "outputs": [
    {
     "name": "stdout",
     "output_type": "stream",
     "text": [
      "1000\n",
      "1226\n"
     ]
    },
    {
     "data": {
      "image/png": "[encoded data removed]",
      "text/plain": [
       "<Figure size 432x288 with 1 Axes>"
      ]
     },
     "metadata": {
      "needs_background": "light"
     },
     "output_type": "display_data"
    }
   ],
   "source": [
    "from scipy import signal\n",
    "\n",
    "#test cross-correlation not working\n",
    "x = np.linspace(0,5,1000)\n",
    "a = np.sin(x)\n",
    "b = np.cos(x)\n",
    "plt.plot(x,a)\n",
    "plt.plot(x,b)\n",
    "\n",
    "# corr = signal.correlate(a,b)\n",
    "lag = np.argmax(signal.correlate(a,b))\n",
    "print(len(a))\n",
    "print(lag)\n",
    "b_new = np.roll(b, shift=int(np.ceil(lag)))\n",
    "plt.plot(x,b_new)\n",
    "plt.show()"
   ]
  },
  {
   "cell_type": "code",
   "execution_count": null,
   "metadata": {},
   "outputs": [],
   "source": []
  },
  {
   "cell_type": "markdown",
   "metadata": {
    "colab_type": "text",
    "id": "n3yspf7w_6nb"
   },
   "source": [
    "PLOT: \n",
    "before-after representative cross-correlation to fix lag-time between force & and emg/SpikeTrain data"
   ]
  },
  {
   "cell_type": "markdown",
   "metadata": {
    "colab_type": "text",
    "id": "rGXa59AJ_6nc"
   },
   "source": [
    "### Feature Extraction/Engineering:"
   ]
  },
  {
   "cell_type": "code",
   "execution_count": null,
   "metadata": {
    "colab": {},
    "colab_type": "code",
    "id": "D3xTY4QE_6nc"
   },
   "outputs": [],
   "source": [
    "# ICA: already done\n",
    "# PCA + K-Means\n",
    "# EMG Time-Domain & Frequency Domain Features:\n",
    "#     RMS\n",
    "#     zero-crossings\n",
    "# ANN???"
   ]
  },
  {
   "cell_type": "markdown",
   "metadata": {
    "colab_type": "text",
    "id": "9871KpXV_6ne"
   },
   "source": [
    "PLOT: View correlations of features, remove some/etc."
   ]
  },
  {
   "cell_type": "markdown",
   "metadata": {
    "colab_type": "text",
    "id": "VhvRpwo6_6nf"
   },
   "source": [
    "### Regression of Features to Force for Prediction:"
   ]
  },
  {
   "cell_type": "code",
   "execution_count": null,
   "metadata": {
    "colab": {},
    "colab_type": "code",
    "id": "ej4ETK9C_6nf"
   },
   "outputs": [],
   "source": [
    "# Separate out within the trial the 8 repetitions for cross-validation"
   ]
  },
  {
   "cell_type": "code",
   "execution_count": null,
   "metadata": {
    "colab": {},
    "colab_type": "code",
    "id": "WvEBFgpy_6nh"
   },
   "outputs": [],
   "source": [
    "# For MUs:\n",
    "#     Linear (try separate groups/coefficients for each MU, but also try using average Firing rate as one coefficient, what my post-doc has used)\n",
    "# For EMG:\n",
    "#     Linear\n",
    "#     ANN\n",
    "#     SVM\n",
    "#     ElasticNet\n",
    "#     Lasso\n",
    "#     Random-Forest\n",
    "#     Kernel-Reaching\n",
    "#     Gradient-Boost\n",
    "#     SGD Regressor"
   ]
  },
  {
   "cell_type": "markdown",
   "metadata": {
    "colab_type": "text",
    "id": "ges8qF7Y_6nj"
   },
   "source": [
    "### Evaluation of Regressors:"
   ]
  },
  {
   "cell_type": "code",
   "execution_count": null,
   "metadata": {
    "colab": {},
    "colab_type": "code",
    "id": "U7FqYtBg_6nk"
   },
   "outputs": [],
   "source": [
    "# Rather than table maybe bar chart:\n",
    "\n",
    "# 4 Bar charts (one for each finger):\n",
    "#     two sets of bars (R^2 + RMSE)\n",
    "#         one bar for each model:\n",
    "#             plot Mean +/- SD/SE across subjects\n",
    "# sort by ranking or model??"
   ]
  },
  {
   "cell_type": "markdown",
   "metadata": {
    "colab_type": "text",
    "id": "xFY4mkgp_6nl"
   },
   "source": [
    "Use Linear for MUs,\n",
    "Linear + other top regressor model for comparison"
   ]
  },
  {
   "cell_type": "markdown",
   "metadata": {
    "colab_type": "text",
    "id": "Sv0LPJE8_6nm"
   },
   "source": [
    "### Further Analysis"
   ]
  },
  {
   "cell_type": "markdown",
   "metadata": {
    "colab_type": "text",
    "id": "rf0a2psX_6nn"
   },
   "source": [
    "Comparisons repeated-measure ANOVA?\n",
    "\n",
    "Compare R^2/RMSE of MU regression against EMG\n",
    "\n",
    "Compare MUs regression of Neutral vs MUs decomposed in other posture"
   ]
  }
 ],
 "metadata": {
  "colab": {
   "name": "FinalProjectDraft1.ipynb",
   "provenance": []
  },
  "kernelspec": {
   "display_name": "Python 3",
   "language": "python",
   "name": "python3"
  },
  "language_info": {
   "codemirror_mode": {
    "name": "ipython",
    "version": 3
   },
   "file_extension": ".py",
   "mimetype": "text/x-python",
   "name": "python",
   "nbconvert_exporter": "python",
   "pygments_lexer": "ipython3",
   "version": "3.7.3"
  }
 },
 "nbformat": 4,
 "nbformat_minor": 4
}
