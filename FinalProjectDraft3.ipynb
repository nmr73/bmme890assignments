{
 "cells": [
  {
   "cell_type": "code",
   "execution_count": 1,
   "metadata": {},
   "outputs": [],
   "source": [
    "import numpy as np\n",
    "import pandas as pd\n",
    "import os\n",
    "import sys\n",
    "import matplotlib.pyplot as plt\n",
    "from scipy.io import loadmat\n",
    "import h5py"
   ]
  },
  {
   "cell_type": "markdown",
   "metadata": {},
   "source": [
    "### Data Import"
   ]
  },
  {
   "cell_type": "code",
   "execution_count": 2,
   "metadata": {},
   "outputs": [],
   "source": [
    "# directory (dependent on what comp being used)\n",
    "# data_dir='./drive/My Drive/BMME890_MachineL earning/YZ_PilotDataTest'\n",
    "data_dir ='C:/Users/nmrubin/Desktop/BMME890MachineLearningProject/GoogleDrive/ProjectData'\n",
    "\n",
    "#import neutral position emg data\n",
    "#loadmat can't work with matlab v 7.3, use h5py\n",
    "\n",
    "#ordered by subjects 1-8\n",
    "Subjects= ['LV','KH','XH','HS','RC','NR','YZ','AM']\n",
    "\n",
    "EMG_dir = data_dir + '/EMGData/'\n",
    "Force_dir = data_dir + '/ForceData/'\n",
    "Spks_dir = data_dir + '/SpikeTrainsData/'\n",
    "# print(Subjects)\n",
    "\n",
    "#later -> go through all subjects\n",
    "for i in range(len(Subjects)): #Subject\n",
    "    Subj = Subjects[i]\n",
    "\n",
    "#for now one subject\n",
    "Subj = 'LV'"
   ]
  },
  {
   "cell_type": "code",
   "execution_count": 3,
   "metadata": {},
   "outputs": [],
   "source": [
    "#Fs = 1000 Hz\n",
    "\n",
    "ForceFs = 1000\n",
    "\n",
    "with h5py.File(Force_dir + Subj + '_Forces.mat', 'r') as file:\n",
    "    ForceNI = np.array(file['ForceNItrial'])\n",
    "    ForceNItime = np.array(file['ForceNItime'])\n",
    "    ForceNM = np.array(file['ForceNMtrial'])\n",
    "    ForceNMtime = np.array(file['ForceNMtime'])\n",
    "    ForceNR = np.array(file['ForceNRtrial'])\n",
    "    ForceNRtime = np.array(file['ForceNRtime'])\n",
    "    ForceNP = np.array(file['ForceNPtrial'])\n",
    "    ForceNPtime = np.array(file['ForceNPtime'])\n",
    "    \n",
    "    ForcePI = np.array(file['ForcePItrial'])\n",
    "    ForcePItime = np.array(file['ForcePItime'])\n",
    "    ForcePM = np.array(file['ForcePMtrial'])\n",
    "    ForcePMtime = np.array(file['ForcePMtime'])\n",
    "    ForcePR = np.array(file['ForcePRtrial'])\n",
    "    ForcePRtime = np.array(file['ForcePRtime'])\n",
    "    ForcePP = np.array(file['ForcePPtrial'])\n",
    "    ForcePPtime = np.array(file['ForcePPtime'])\n",
    "    \n",
    "    ForceSI = np.array(file['ForceSItrial'])\n",
    "    ForceSItime = np.array(file['ForceSItime'])\n",
    "    ForceSM = np.array(file['ForceSMtrial'])\n",
    "    ForceSMtime = np.array(file['ForceSMtime'])\n",
    "    ForceSR = np.array(file['ForceSRtrial'])\n",
    "    ForceSRtime = np.array(file['ForceSRtime'])\n",
    "    ForceSP = np.array(file['ForceSPtrial'])\n",
    "    ForceSPtime = np.array(file['ForceSPtime'])"
   ]
  },
  {
   "cell_type": "code",
   "execution_count": 4,
   "metadata": {},
   "outputs": [],
   "source": [
    "#load emg data\n",
    "#careful, will take up ~4-8GB Memory\n",
    "\n",
    "#NPS = Neutral/Pronated/Supinated\n",
    "#IMRP = Index/Middle/Ring/Pinky\n",
    "\n",
    "#pick sample rate for appropriate subject\n",
    "if Subj == 'LV':\n",
    "    EMGFs =  2.5621e+03\n",
    "else:\n",
    "    EMGFs =  2.0497e+03\n",
    "\n",
    "with h5py.File(EMG_dir + Subj + '_EMGtrials.mat', 'r') as file:\n",
    "    EMGNI = np.array(file['EMGNI'])\n",
    "    EMGNM = np.array(file['EMGNM'])\n",
    "    EMGNR = np.array(file['EMGNR'])\n",
    "    EMGNP = np.array(file['EMGNP'])\n",
    "    \n",
    "    EMGPI = np.array(file['EMGPI'])\n",
    "    EMGPM = np.array(file['EMGPM'])\n",
    "    EMGPR = np.array(file['EMGPR'])\n",
    "    EMGPP = np.array(file['EMGPP'])\n",
    "    \n",
    "    EMGSI = np.array(file['EMGSI'])\n",
    "    EMGSM = np.array(file['EMGSM'])\n",
    "    EMGSR = np.array(file['EMGSR'])\n",
    "    EMGSP = np.array(file['EMGSP'])\n",
    "    \n",
    "#first repetition is skipped in case of user-adjustments at beginning of trial, cut off first 19 seconds of EMG data to match with force\n",
    "cutind = int(np.floor(19*EMGFs))\n",
    "EMGNI = EMGNI[:,cutind-1:]\n",
    "EMGNM = EMGNM[:,cutind-1:]\n",
    "EMGNR = EMGNR[:,cutind-1:]\n",
    "EMGNP = EMGNP[:,cutind-1:]\n",
    "\n",
    "EMGPI = EMGPI[:,cutind-1:]\n",
    "EMGPM = EMGPM[:,cutind-1:]\n",
    "EMGPR = EMGPR[:,cutind-1:]\n",
    "EMGPP = EMGPP[:,cutind-1:]\n",
    "\n",
    "EMGSI = EMGSI[:,cutind-1:]\n",
    "EMGSM = EMGSM[:,cutind-1:]\n",
    "EMGSR = EMGSR[:,cutind-1:]\n",
    "EMGSP = EMGSP[:,cutind-1:]"
   ]
  },
  {
   "cell_type": "code",
   "execution_count": 7,
   "metadata": {},
   "outputs": [],
   "source": [
    "#load spiketrain data\n",
    "\n",
    "#SpkTrn_PostureDecomposed_PostureforTrial_Finger\n",
    "#e.g. SpkTrnNSI = Neutral MUs, Supinated Trial, Index Finger\n",
    "#e.g. SpkTrnPPM = Pronated MUs, Pronated Trial, Middle Finger\n",
    "\n",
    "#compare Neutral MUs against MUs decomposed in Pronated/Supinated positions\n",
    "\n",
    "with h5py.File(Spks_dir + Subj + '_MUsyncscompiled.mat', 'r') as file:\n",
    "    \n",
    "    SpkTrnNNI = np.array(file['SpkTrnNNI'])\n",
    "    SpkTrnNNM = np.array(file['SpkTrnNNM'])\n",
    "    SpkTrnNNR = np.array(file['SpkTrnNNR'])\n",
    "    SpkTrnNNP = np.array(file['SpkTrnNNP'])\n",
    "    \n",
    "    SpkTrnNPI = np.array(file['SpkTrnNPI'])\n",
    "    SpkTrnNPM = np.array(file['SpkTrnNPM'])\n",
    "    SpkTrnNPR = np.array(file['SpkTrnNPR'])\n",
    "    SpkTrnNPP = np.array(file['SpkTrnNPP'])\n",
    "    \n",
    "    SpkTrnNSI = np.array(file['SpkTrnNSI'])\n",
    "    SpkTrnNSM = np.array(file['SpkTrnNSM'])\n",
    "    SpkTrnNSR = np.array(file['SpkTrnNSR'])\n",
    "    SpkTrnNSP = np.array(file['SpkTrnNSP'])\n",
    "      \n",
    "#     SpkTrnPNI = np.array(file['SpkTrnPNI'])\n",
    "#     SpkTrnPNM = np.array(file['SpkTrnPNM'])\n",
    "#     SpkTrnPNR = np.array(file['SpkTrnPNR'])\n",
    "#     SpkTrnPNP = np.array(file['SpkTrnPNP'])\n",
    "    \n",
    "    SpkTrnPPI = np.array(file['SpkTrnPPI'])\n",
    "    SpkTrnPPM = np.array(file['SpkTrnPPM'])\n",
    "    SpkTrnPPR = np.array(file['SpkTrnPPR'])\n",
    "    SpkTrnPPP = np.array(file['SpkTrnPPP'])\n",
    "    \n",
    "#     SpkTrnPSI = np.array(file['SpkTrnPSI'])\n",
    "#     SpkTrnPSM = np.array(file['SpkTrnPSM'])\n",
    "#     SpkTrnPSR = np.array(file['SpkTrnPSR'])\n",
    "#     SpkTrnPSP = np.array(file['SpkTrnPSP'])\n",
    "\n",
    "#     SpkTrnSNI = np.array(file['SpkTrnSNI'])\n",
    "#     SpkTrnSNM = np.array(file['SpkTrnSNM'])\n",
    "#     SpkTrnSNR = np.array(file['SpkTrnSNR'])\n",
    "#     SpkTrnSNP = np.array(file['SpkTrnSNP'])\n",
    "    \n",
    "#     SpkTrnSPI = np.array(file['SpkTrnSPI'])\n",
    "#     SpkTrnSPM = np.array(file['SpkTrnSPM'])\n",
    "#     SpkTrnSPR = np.array(file['SpkTrnSPR'])\n",
    "#     SpkTrnSPP = np.array(file['SpkTrnSPP'])\n",
    "    \n",
    "    SpkTrnSSI = np.array(file['SpkTrnSSI'])\n",
    "    SpkTrnSSM = np.array(file['SpkTrnSSM'])\n",
    "    SpkTrnSSR = np.array(file['SpkTrnSSR'])\n",
    "    SpkTrnSSP = np.array(file['SpkTrnSSP'])"
   ]
  },
  {
   "cell_type": "markdown",
   "metadata": {},
   "source": [
    "Note: After cutoff of EMG data it still has 1 extra index compared to SpkTrn, not sure why"
   ]
  },
  {
   "cell_type": "code",
   "execution_count": 8,
   "metadata": {},
   "outputs": [
    {
     "name": "stdout",
     "output_type": "stream",
     "text": [
      "(160, 412874)\n",
      "(23, 412873)\n",
      "\n",
      "(160, 412873)\n",
      "(32, 412872)\n",
      "(34, 412872)\n"
     ]
    }
   ],
   "source": [
    "print(np.shape(EMGNI))\n",
    "print(np.shape(SpkTrnNNI))\n",
    "print()\n",
    "print(np.shape(EMGSM))\n",
    "print(np.shape(SpkTrnSSM))\n",
    "print(np.shape(SpkTrnNSM))"
   ]
  },
  {
   "cell_type": "code",
   "execution_count": 11,
   "metadata": {},
   "outputs": [
    {
     "name": "stdout",
     "output_type": "stream",
     "text": [
      "Time per trial (seconds)\n",
      "Force Time\n",
      "161.0\n",
      "EMG Time\n",
      "161.1143202841419\n",
      "SpkTrain Time\n",
      "161.1318840014051\n"
     ]
    }
   ],
   "source": [
    "print('Time per trial (seconds)')\n",
    "forcetime = np.size(ForceNP)/1000\n",
    "spktime = np.shape(SpkTrnNNM)[1]/EMGFs\n",
    "emgtime = np.shape(EMGPI)[1]/EMGFs\n",
    "print('Force Time')\n",
    "print(forcetime)\n",
    "print('EMG Time')\n",
    "print(emgtime)\n",
    "print('SpkTrain Time')\n",
    "print(spktime)"
   ]
  },
  {
   "cell_type": "code",
   "execution_count": 12,
   "metadata": {},
   "outputs": [
    {
     "name": "stdout",
     "output_type": "stream",
     "text": [
      "Shape of data\n",
      "Force shape\n",
      "(1, 161000)\n",
      "EMG shape\n",
      "(160, 412874)\n",
      "Spike Train shape\n",
      "(23, 412873)\n"
     ]
    }
   ],
   "source": [
    "#check shape of data as it is now\n",
    "print('Shape of data')\n",
    "print('Force shape')\n",
    "print(np.shape(ForceNI))\n",
    "print('EMG shape')\n",
    "print(np.shape(EMGNI))\n",
    "print('Spike Train shape')\n",
    "print(np.shape(SpkTrnNNI))"
   ]
  },
  {
   "cell_type": "markdown",
   "metadata": {},
   "source": [
    "Get RMS for EMG signals of top 85 channels"
   ]
  },
  {
   "cell_type": "code",
   "execution_count": 13,
   "metadata": {},
   "outputs": [],
   "source": [
    "#calculate average rms of top channels\n",
    "#check this\n",
    "def rms(matrix,axis):\n",
    "  \n",
    "  return np.sqrt(np.mean(matrix**2,axis=axis))\n",
    "\n",
    "def rms_top_channels(matrix,topN):\n",
    "  rmsmatrix=rms(matrix,1)\n",
    "  channelInd=np.argpartition(rmsmatrix,-topN)[-topN:] \n",
    "  topchannels=np.mean(matrix[channelInd,:],axis=0)\n",
    "  return topchannels"
   ]
  },
  {
   "cell_type": "code",
   "execution_count": 14,
   "metadata": {},
   "outputs": [],
   "source": [
    "#get mean rms values of top 85 channels\n",
    "NIrms=rms_top_channels(EMGNI,85)\n",
    "NMrms=rms_top_channels(EMGNM,85)\n",
    "NRrms=rms_top_channels(EMGNR,85)\n",
    "NPrms=rms_top_channels(EMGNP,85)\n",
    "\n",
    "PIrms=rms_top_channels(EMGPI,85)\n",
    "PMrms=rms_top_channels(EMGPM,85)\n",
    "PRrms=rms_top_channels(EMGPR,85)\n",
    "PPrms=rms_top_channels(EMGPP,85)\n",
    "\n",
    "SIrms=rms_top_channels(EMGSI,85)\n",
    "SMrms=rms_top_channels(EMGSM,85)\n",
    "SRrms=rms_top_channels(EMGSR,85)\n",
    "SPrms=rms_top_channels(EMGSP,85)\n",
    "#remove number of steps corresponding to extra time from emg data\n",
    "# NIrms=NIchannels[:,int((len(NIrms[0])*1/EMGFs-len(ForceNI)*1/1000)*EMGFs):]\n",
    "# NMrms=NIchannels[:,int((len(NMrms[0])*1/EMGFs-len(ForceNM)*1/1000)*EMGFs):]"
   ]
  },
  {
   "cell_type": "code",
   "execution_count": 44,
   "metadata": {},
   "outputs": [],
   "source": [
    "#calculate a rolling window, 500ms long incremented by 100ms\n",
    "#need to have windows of the average times as well (i.e. [.25, .35, .45...etc])\n",
    "def rolling_windows(signal,window,step,frequency):\n",
    "    \n",
    "    #check which dimension is time/longer\n",
    "    dim = np.argmax(np.shape(signal))\n",
    "    \n",
    "    windowSize=round(window*frequency)  \n",
    "    stepSize=round(step*frequency)\n",
    "    windows=[]\n",
    "    windtimes = []\n",
    "    for start in np.arange(0,signal.shape[dim]-windowSize+1,stepSize):\n",
    "        \n",
    "        #track window times\n",
    "        if start == 0: #start at half a window\n",
    "            windtimes.append(window/2)\n",
    "        else: #increment by one window step size\n",
    "            windtimes.append(windtimes[-1] + step)\n",
    "        \n",
    "        end=start+windowSize\n",
    "        \n",
    "        if len(np.shape(signal)) == 1: #if column vector\n",
    "            windows.append(np.array(signal[start:end]))\n",
    "        else:\n",
    "            if dim == 0:\n",
    "                windows.append(np.array(signal[start:end,:])) #go down rows\n",
    "            else:\n",
    "                windows.append(np.array(signal[:,start:end])) #go down column\n",
    "    \n",
    "    return windows,windtimes\n",
    "\n",
    "#get indices of the windows needed for cross-validation\n",
    "def crossvalidataprep(windtimes):\n",
    "    windtimes = np.array(windtimes)\n",
    "    crossvalsectind = []\n",
    "    Crossvaltimes = [0,26,49,72,95,118,141] #seconds, timing cutoffs for each repetition (7 total, last 141-end)\n",
    "    for i in range(len(Crossvaltimes)):\n",
    "        if i == 0:\n",
    "            crossvalsectind.append(0)\n",
    "        else:\n",
    "            tmp = windtimes - Crossvaltimes[i]\n",
    "            crossvalsectind.append(np.argmin(np.abs(tmp)))          \n",
    "    return crossvalsectind\n",
    "#crossvalsectind is vector of 6 values\n",
    "#section 1 = crossvalind[0] thru crossvalidind[1]-1\n",
    "#section 7 = crossvalind[end] to last window in signal"
   ]
  },
  {
   "cell_type": "code",
   "execution_count": 79,
   "metadata": {},
   "outputs": [],
   "source": [
    "#feature generation, compute new features and combine into dataframe\n",
    "\n",
    "def extrafeatures(RMSEMG,window,step,frequency):\n",
    "\n",
    "    RMSEMGwind,_ = rolling_windows(RMSEMG,windowsize,step,frequency)\n",
    "\n",
    "    zc = []\n",
    "    ssc = []\n",
    "    std = []\n",
    "    maxamp = []\n",
    "\n",
    "    for window in RMSEMGwind:\n",
    "\n",
    "        #zero crossings\n",
    "        zc.append(len(np.ravel(np.diff(np.sign(window))).nonzero()[0]))\n",
    "\n",
    "        #ssc\n",
    "        dev2=np.gradient(np.gradient(window))\n",
    "        ssc.append(len(np.ravel(np.diff(np.sign(dev2))).nonzero()[0]))\n",
    "\n",
    "        #max amplitude\n",
    "        maxamp.append(np.max(window))\n",
    "\n",
    "        #std deviation\n",
    "        std.append(np.std(window))\n",
    "        \n",
    "        extrafeat = pd.DataFrame({'Zero-Cross': zc,'SSC': ssc, 'STD' : std, 'Maxamp': maxamp})\n",
    "        \n",
    "    return extrafeat"
   ]
  },
  {
   "cell_type": "code",
   "execution_count": 29,
   "metadata": {},
   "outputs": [],
   "source": [
    "#Calculate firing rate of Spike Train across windows (1603 windows)\n",
    "def FRwind(SpkTrn,WinLength,StepLength,EMGFs):\n",
    "# SpkTrn = SpkTrnNNI\n",
    "# dim = np.argmax(np.shape(signal))\n",
    "    emglength = np.shape(SpkTrn)[1]\n",
    "    WinLength = 0.5 #seconds\n",
    "    StepLength = 0.1\n",
    "    WinNumSample = int(EMGFs*WinLength)\n",
    "    StepNumSample = int(EMGFs*StepLength)\n",
    "    TimeMax = emglength/EMGFs\n",
    "    TimeWin = np.arange(WinNumSample/EMGFs,TimeMax,StepNumSample/EMGFs,dtype='float')\n",
    "    timeemg = np.arange(1/EMGFs,(1+emglength)/EMGFs,1/EMGFs,dtype='float')\n",
    "\n",
    "    FR = []\n",
    "\n",
    "    MUs = np.shape(SpkTrn)[0]\n",
    "\n",
    "    for i in range(1+np.size(TimeWin)):\n",
    "        if i == 0: #first window\n",
    "            windstartind = 0\n",
    "            windstopind = np.argmin(abs(timeemg - WinLength))\n",
    "\n",
    "        else: #move window forward\n",
    "            windstartind = windstartind + StepNumSample + 1\n",
    "            windstopind = windstopind + StepNumSample + 1\n",
    "\n",
    "        if windstopind > emglength: #if next window goes past length of EMG, cut it off early\n",
    "            windstopind = emglength\n",
    "            WinLength = (windstopind - windstartind + 1)/EMGFs #last window time for new FR computation\n",
    "\n",
    "        #compute firing rate in window\n",
    "        FRtemp = np.zeros((1,MUs))\n",
    "        for mu in range(MUs):\n",
    "            FRtemp[0,mu] = np.count_nonzero(SpkTrn[mu,windstartind:windstopind])/WinLength\n",
    "\n",
    "        FR.append((np.mean(FRtemp))) #get average firing rate\n",
    "\n",
    "        if windstopind == emglength: #end of that was last window\n",
    "            break\n",
    "    return FR"
   ]
  },
  {
   "cell_type": "code",
   "execution_count": 42,
   "metadata": {},
   "outputs": [],
   "source": [
    "#compute average firing rate of moving windows for spiketrains\n",
    "WinLength = .5\n",
    "StepLength = .1\n",
    "FRwindNNI = FRwind(SpkTrnNNI,WinLength,StepLength,EMGFs)\n",
    "FRwindNNM = FRwind(SpkTrnNNM,WinLength,StepLength,EMGFs)\n",
    "FRwindNNR = FRwind(SpkTrnNNR,WinLength,StepLength,EMGFs)\n",
    "FRwindNNP = FRwind(SpkTrnNNP,WinLength,StepLength,EMGFs)\n",
    "\n",
    "FRwindNSI = FRwind(SpkTrnNSI,WinLength,StepLength,EMGFs)\n",
    "FRwindNSM = FRwind(SpkTrnNSM,WinLength,StepLength,EMGFs)\n",
    "FRwindNSR = FRwind(SpkTrnNSR,WinLength,StepLength,EMGFs)\n",
    "FRwindNSP = FRwind(SpkTrnNSP,WinLength,StepLength,EMGFs)\n",
    "\n",
    "FRwindNPI = FRwind(SpkTrnNPI,WinLength,StepLength,EMGFs)\n",
    "FRwindNPM = FRwind(SpkTrnNPM,WinLength,StepLength,EMGFs)\n",
    "FRwindNPR = FRwind(SpkTrnNPR,WinLength,StepLength,EMGFs)\n",
    "FRwindNPP = FRwind(SpkTrnNPP,WinLength,StepLength,EMGFs)\n",
    "\n",
    "FRwindPPI = FRwind(SpkTrnNPI,WinLength,StepLength,EMGFs)\n",
    "FRwindPPM = FRwind(SpkTrnNPM,WinLength,StepLength,EMGFs)\n",
    "FRwindPPR = FRwind(SpkTrnNPR,WinLength,StepLength,EMGFs)\n",
    "FRwindPPP = FRwind(SpkTrnPPP,WinLength,StepLength,EMGFs)\n",
    "\n",
    "FRwindSSI = FRwind(SpkTrnSSI,WinLength,StepLength,EMGFs)\n",
    "FRwindSSM = FRwind(SpkTrnSSM,WinLength,StepLength,EMGFs)\n",
    "FRwindSSR = FRwind(SpkTrnSSR,WinLength,StepLength,EMGFs)\n",
    "FRwindSSP = FRwind(SpkTrnSSP,WinLength,StepLength,EMGFs)"
   ]
  },
  {
   "cell_type": "code",
   "execution_count": 45,
   "metadata": {},
   "outputs": [],
   "source": [
    "EMGNIwind,EMGNIwindtimes = rolling_windows(NIrms,.5,.1,EMGFs)\n",
    "ForceNIwind,ForceNIwindtimes = rolling_windows(ForceNI,.5,.1,1000)\n",
    "#should be same # windows for all of them, only need this once\n",
    "crossvalsectind = crossvalidataprep(EMGNIwindtimes)"
   ]
  },
  {
   "cell_type": "markdown",
   "metadata": {},
   "source": [
    "Cross-Correlate EMG/SpikeTrains & Force Data to account for delay; still needs solving"
   ]
  },
  {
   "cell_type": "code",
   "execution_count": 63,
   "metadata": {},
   "outputs": [
    {
     "name": "stdout",
     "output_type": "stream",
     "text": [
      "1000\n",
      "1217\n"
     ]
    },
    {
     "data": {
      "image/png": "[encoded data removed]",
      "text/plain": [
       "<Figure size 432x288 with 1 Axes>"
      ]
     },
     "metadata": {
      "needs_background": "light"
     },
     "output_type": "display_data"
    }
   ],
   "source": [
    "from scipy import signal\n",
    "from math import pi\n",
    "#test cross-correlation not working\n",
    "x = np.linspace(0,2*pi,1000)\n",
    "a = np.sin(x)\n",
    "b = np.cos(x)\n",
    "plt.plot(x,a)\n",
    "plt.plot(x,b)\n",
    "\n",
    "# corr = signal.correlate(a,b)\n",
    "lag = np.argmax(signal.correlate(a,b))\n",
    "print(len(a))\n",
    "print(lag)\n",
    "b_new = np.roll(b, shift=int(np.ceil(lag)))\n",
    "plt.plot(x,b_new)\n",
    "plt.show()"
   ]
  },
  {
   "cell_type": "markdown",
   "metadata": {},
   "source": [
    "PLOT: before-after representative cross-correlation to fix lag-time between force & and emg/SpikeTrain data\n",
    "Feature Extraction/Engineering:"
   ]
  },
  {
   "cell_type": "markdown",
   "metadata": {},
   "source": [
    "PLOT: View correlations of features, remove some/etc.\n",
    "Regression of Features to Force for Prediction:"
   ]
  },
  {
   "cell_type": "markdown",
   "metadata": {},
   "source": [
    "Prep Regressors"
   ]
  },
  {
   "cell_type": "code",
   "execution_count": 53,
   "metadata": {},
   "outputs": [],
   "source": [
    "# ICA: already done\n",
    "# PCA + K-Means\n",
    "# EMG Time-Domain & Frequency Domain Features:\n",
    "#     RMS\n",
    "#     zero-crossings\n",
    "# ANN???"
   ]
  },
  {
   "cell_type": "code",
   "execution_count": null,
   "metadata": {},
   "outputs": [],
   "source": [
    "# For MUs:\n",
    "#     Linear (try separate groups/coefficients for each MU, but also try using average Firing rate as one coefficient, what my post-doc has used)\n",
    "# For EMG:\n",
    "#     Linear\n",
    "#     ANN\n",
    "#     SVM\n",
    "#     ElasticNet\n",
    "#     Lasso\n",
    "#     Random-Forest\n",
    "#     Kernel-Reaching\n",
    "#     Gradient-Boost\n",
    "#     SGD Regressor"
   ]
  },
  {
   "cell_type": "code",
   "execution_count": null,
   "metadata": {},
   "outputs": [],
   "source": [
    "# from sklearn.model_selection import cross_val_score,train_test_split,cross_validate\n",
    "# from sklearn import tree,linear_model,svm\n",
    "# from sklearn.preprocessing import MinMaxScaler,StandardScaler, OneHotEncoder\n",
    "# from sklearn.pipeline import Pipeline\n",
    "# from sklearn.metrics import r2_score\n",
    "# import scipy.fftpack as syfp\n",
    "# from sklearn.compose import ColumnTransformer"
   ]
  },
  {
   "cell_type": "code",
   "execution_count": null,
   "metadata": {},
   "outputs": [],
   "source": [
    "from sklearn.linear_model import ElasticNet, Lasso,  BayesianRidge, LassoLarsIC\n",
    "from sklearn.ensemble import RandomForestRegressor,  GradientBoostingRegressor\n",
    "from sklearn.kernel_ridge import KernelRidge\n",
    "from sklearn.pipeline import make_pipeline\n",
    "from sklearn.preprocessing import RobustScaler\n",
    "from sklearn.base import BaseEstimator, TransformerMixin, RegressorMixin, clone\n",
    "from sklearn.model_selection import KFold, cross_val_score, train_test_split\n",
    "from sklearn.metrics import mean_squared_error\n",
    "import xgboost as xgb\n",
    "import lightgbm as lgb\n",
    "\n",
    "KRR = KernelRidge(alpha=0.6, kernel='polynomial', degree=2, coef0=2.5)\n",
    "lasso = make_pipeline(RobustScaler(), Lasso(alpha =0.0005, random_state=1))\n",
    "ENet = make_pipeline(RobustScaler(), ElasticNet(alpha=0.0005, l1_ratio=.9, random_state=3))\n",
    "GBoost = GradientBoostingRegressor(n_estimators=3000, learning_rate=0.05,\n",
    "                                   max_depth=4, max_features='sqrt',\n",
    "                                   min_samples_leaf=15, min_samples_split=10, \n",
    "                                   loss='huber', random_state =5)\n",
    "XGBoost = xgb.XGBRegressor(colsample_bytree=0.4603, gamma=0.0468, \n",
    "                             learning_rate=0.05, max_depth=3, \n",
    "                             min_child_weight=1.7817, n_estimators=2200,\n",
    "                             reg_alpha=0.4640, reg_lambda=0.8571,\n",
    "                             subsample=0.5213, silent=1,\n",
    "                             random_state =7, nthread = -1)\n",
    "LightgBoost = lgb.LGBMRegressor(objective='regression',num_leaves=5,\n",
    "                              learning_rate=0.05, n_estimators=720,\n",
    "                              max_bin = 55, bagging_fraction = 0.8,\n",
    "                              bagging_freq = 5, feature_fraction = 0.2319,\n",
    "                              feature_fraction_seed=9, bagging_seed=9,\n",
    "                              min_data_in_leaf =6, min_sum_hessian_in_leaf = 11)"
   ]
  },
  {
   "cell_type": "code",
   "execution_count": null,
   "metadata": {},
   "outputs": [],
   "source": [
    "from mlxtend.regressor import StackingCVRegressor\n",
    "stack_gen = StackingCVRegressor(regressors=(KRR, lasso, ENet, GBoost,XGBoost,LightgBoost),\n",
    "                                meta_regressor=XGBoost,\n",
    "                                use_features_in_secondary=True)\n",
    "\n",
    "stack_gen_t = stack_gen.fit(train.values,y_train)\n",
    "\n",
    "predicted_prices = np.expm1(stack_gen_t.predict(test.values))\n",
    "Evaluation of Regressors:"
   ]
  },
  {
   "cell_type": "code",
   "execution_count": 58,
   "metadata": {},
   "outputs": [],
   "source": [
    "# Rather than table maybe bar chart:\n",
    "\n",
    "# 4 Bar charts (one for each finger):\n",
    "#     two sets of bars (R^2 + RMSE)\n",
    "#         one bar for each model:\n",
    "#             plot Mean +/- SD/SE across subjects\n",
    "# sort by ranking or model??\n",
    "# Use Linear for MUs, Linear + other top regressor model for comparison\n",
    "# Further Analysis\n",
    "# Comparisons repeated-measure ANOVA?\n",
    "# Compare R^2/RMSE of MU regression against EMG\n",
    "# Compare MUs regression of Neutral vs MUs decomposed in other posture"
   ]
  }
 ],
 "metadata": {
  "kernelspec": {
   "display_name": "Python 3",
   "language": "python",
   "name": "python3"
  },
  "language_info": {
   "codemirror_mode": {
    "name": "ipython",
    "version": 3
   },
   "file_extension": ".py",
   "mimetype": "text/x-python",
   "name": "python",
   "nbconvert_exporter": "python",
   "pygments_lexer": "ipython3",
   "version": "3.7.3"
  }
 },
 "nbformat": 4,
 "nbformat_minor": 4
}
